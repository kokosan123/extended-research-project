{
 "cells": [
  {
   "cell_type": "markdown",
   "id": "3ebf7ba6-6a42-4664-be6b-7b232e32ae90",
   "metadata": {},
   "source": [
    "# Extended Research Project Model Development (svm)"
   ]
  },
  {
   "cell_type": "markdown",
   "id": "f64c71d2-0359-489e-adf5-b5c6d751cac1",
   "metadata": {},
   "source": [
    "## 1. Preprocess the data"
   ]
  },
  {
   "cell_type": "code",
   "execution_count": 1,
   "id": "f7374850-b553-416b-8da7-62604e2a4c82",
   "metadata": {},
   "outputs": [
    {
     "name": "stderr",
     "output_type": "stream",
     "text": [
      "C:\\Users\\teppe\\anaconda3\\envs\\keras_env\\lib\\site-packages\\tqdm\\auto.py:21: TqdmWarning: IProgress not found. Please update jupyter and ipywidgets. See https://ipywidgets.readthedocs.io/en/stable/user_install.html\n",
      "  from .autonotebook import tqdm as notebook_tqdm\n"
     ]
    }
   ],
   "source": [
    "# === Step 0: Import Libraries ===\n",
    "from sklearn.model_selection import train_test_split\n",
    "from sklearn.preprocessing import StandardScaler\n",
    "from sklearn.metrics import roc_auc_score, f1_score, precision_score, recall_score, confusion_matrix\n",
    "from sklearn.svm import SVC\n",
    "import pandas as pd\n",
    "import numpy as np\n",
    "import optuna\n",
    "import joblib\n",
    "import os\n",
    "import matplotlib.pyplot as plt\n",
    "import seaborn as sns\n",
    "from sklearn.preprocessing import LabelEncoder"
   ]
  },
  {
   "cell_type": "code",
   "execution_count": 2,
   "id": "1d9c766a-8ecd-45e7-8e37-e8504ec1be30",
   "metadata": {},
   "outputs": [
    {
     "data": {
      "text/html": [
       "<div>\n",
       "<style scoped>\n",
       "    .dataframe tbody tr th:only-of-type {\n",
       "        vertical-align: middle;\n",
       "    }\n",
       "\n",
       "    .dataframe tbody tr th {\n",
       "        vertical-align: top;\n",
       "    }\n",
       "\n",
       "    .dataframe thead th {\n",
       "        text-align: right;\n",
       "    }\n",
       "</style>\n",
       "<table border=\"1\" class=\"dataframe\">\n",
       "  <thead>\n",
       "    <tr style=\"text-align: right;\">\n",
       "      <th></th>\n",
       "      <th>net_income_usd</th>\n",
       "      <th>total_assets_usd</th>\n",
       "      <th>shareholders_funds_usd</th>\n",
       "      <th>capital_usd</th>\n",
       "      <th>revenue_usd</th>\n",
       "      <th>schooling_years_2020</th>\n",
       "      <th>urban_pop_growth_2022</th>\n",
       "      <th>logistics_index_2018</th>\n",
       "      <th>life_expectancy_2022</th>\n",
       "      <th>female_labor_participation_2023</th>\n",
       "      <th>...</th>\n",
       "      <th>svd_91</th>\n",
       "      <th>svd_92</th>\n",
       "      <th>svd_93</th>\n",
       "      <th>svd_94</th>\n",
       "      <th>svd_95</th>\n",
       "      <th>svd_96</th>\n",
       "      <th>svd_97</th>\n",
       "      <th>svd_98</th>\n",
       "      <th>svd_99</th>\n",
       "      <th>svd_100</th>\n",
       "    </tr>\n",
       "  </thead>\n",
       "  <tbody>\n",
       "    <tr>\n",
       "      <th>0</th>\n",
       "      <td>9.447491e+05</td>\n",
       "      <td>0.181549</td>\n",
       "      <td>NaN</td>\n",
       "      <td>-0.003279</td>\n",
       "      <td>3.541786e+06</td>\n",
       "      <td>1.186760</td>\n",
       "      <td>-1.189779</td>\n",
       "      <td>-0.492681</td>\n",
       "      <td>-0.677844</td>\n",
       "      <td>1.057754</td>\n",
       "      <td>...</td>\n",
       "      <td>0.013482</td>\n",
       "      <td>-0.023297</td>\n",
       "      <td>-0.026130</td>\n",
       "      <td>-0.019788</td>\n",
       "      <td>0.008973</td>\n",
       "      <td>-0.005500</td>\n",
       "      <td>-0.019473</td>\n",
       "      <td>-0.009817</td>\n",
       "      <td>0.011526</td>\n",
       "      <td>-0.029350</td>\n",
       "    </tr>\n",
       "    <tr>\n",
       "      <th>1</th>\n",
       "      <td>1.765783e+04</td>\n",
       "      <td>0.181549</td>\n",
       "      <td>0.098608</td>\n",
       "      <td>0.040249</td>\n",
       "      <td>1.437969e+06</td>\n",
       "      <td>1.186760</td>\n",
       "      <td>-1.189779</td>\n",
       "      <td>-0.492681</td>\n",
       "      <td>-0.677844</td>\n",
       "      <td>1.057754</td>\n",
       "      <td>...</td>\n",
       "      <td>0.012744</td>\n",
       "      <td>0.026045</td>\n",
       "      <td>0.019724</td>\n",
       "      <td>0.076969</td>\n",
       "      <td>0.012354</td>\n",
       "      <td>-0.062352</td>\n",
       "      <td>-0.000067</td>\n",
       "      <td>0.075836</td>\n",
       "      <td>-0.045383</td>\n",
       "      <td>0.066350</td>\n",
       "    </tr>\n",
       "    <tr>\n",
       "      <th>2</th>\n",
       "      <td>-2.502728e+04</td>\n",
       "      <td>0.181549</td>\n",
       "      <td>-0.168453</td>\n",
       "      <td>0.040249</td>\n",
       "      <td>1.246335e+06</td>\n",
       "      <td>1.186760</td>\n",
       "      <td>-1.189779</td>\n",
       "      <td>-0.492681</td>\n",
       "      <td>-0.677844</td>\n",
       "      <td>1.057754</td>\n",
       "      <td>...</td>\n",
       "      <td>0.006091</td>\n",
       "      <td>0.001558</td>\n",
       "      <td>-0.050122</td>\n",
       "      <td>0.024515</td>\n",
       "      <td>0.019798</td>\n",
       "      <td>-0.018739</td>\n",
       "      <td>-0.008884</td>\n",
       "      <td>-0.005824</td>\n",
       "      <td>0.011487</td>\n",
       "      <td>0.007655</td>\n",
       "    </tr>\n",
       "    <tr>\n",
       "      <th>3</th>\n",
       "      <td>1.023630e+03</td>\n",
       "      <td>0.181549</td>\n",
       "      <td>0.020692</td>\n",
       "      <td>0.028005</td>\n",
       "      <td>7.675140e+05</td>\n",
       "      <td>1.186760</td>\n",
       "      <td>-1.189779</td>\n",
       "      <td>-0.492681</td>\n",
       "      <td>-0.677844</td>\n",
       "      <td>1.057754</td>\n",
       "      <td>...</td>\n",
       "      <td>-0.001193</td>\n",
       "      <td>-0.001749</td>\n",
       "      <td>0.001392</td>\n",
       "      <td>0.000009</td>\n",
       "      <td>-0.001890</td>\n",
       "      <td>-0.003163</td>\n",
       "      <td>-0.002057</td>\n",
       "      <td>-0.000404</td>\n",
       "      <td>0.000297</td>\n",
       "      <td>-0.000742</td>\n",
       "    </tr>\n",
       "    <tr>\n",
       "      <th>4</th>\n",
       "      <td>6.034728e+02</td>\n",
       "      <td>0.181549</td>\n",
       "      <td>0.013782</td>\n",
       "      <td>0.028005</td>\n",
       "      <td>7.037159e+05</td>\n",
       "      <td>1.186760</td>\n",
       "      <td>-1.189779</td>\n",
       "      <td>-0.492681</td>\n",
       "      <td>-0.677844</td>\n",
       "      <td>1.057754</td>\n",
       "      <td>...</td>\n",
       "      <td>0.000117</td>\n",
       "      <td>0.000087</td>\n",
       "      <td>0.000720</td>\n",
       "      <td>0.000368</td>\n",
       "      <td>-0.000447</td>\n",
       "      <td>0.000312</td>\n",
       "      <td>0.000811</td>\n",
       "      <td>0.000741</td>\n",
       "      <td>-0.000101</td>\n",
       "      <td>-0.000551</td>\n",
       "    </tr>\n",
       "    <tr>\n",
       "      <th>...</th>\n",
       "      <td>...</td>\n",
       "      <td>...</td>\n",
       "      <td>...</td>\n",
       "      <td>...</td>\n",
       "      <td>...</td>\n",
       "      <td>...</td>\n",
       "      <td>...</td>\n",
       "      <td>...</td>\n",
       "      <td>...</td>\n",
       "      <td>...</td>\n",
       "      <td>...</td>\n",
       "      <td>...</td>\n",
       "      <td>...</td>\n",
       "      <td>...</td>\n",
       "      <td>...</td>\n",
       "      <td>...</td>\n",
       "      <td>...</td>\n",
       "      <td>...</td>\n",
       "      <td>...</td>\n",
       "      <td>...</td>\n",
       "      <td>...</td>\n",
       "    </tr>\n",
       "    <tr>\n",
       "      <th>477072</th>\n",
       "      <td>-9.593861e+03</td>\n",
       "      <td>0.181549</td>\n",
       "      <td>0.188289</td>\n",
       "      <td>0.040249</td>\n",
       "      <td>-7.980458e+03</td>\n",
       "      <td>-2.574365</td>\n",
       "      <td>2.371344</td>\n",
       "      <td>-1.654855</td>\n",
       "      <td>-1.126116</td>\n",
       "      <td>-1.398460</td>\n",
       "      <td>...</td>\n",
       "      <td>-0.005517</td>\n",
       "      <td>0.001996</td>\n",
       "      <td>0.077717</td>\n",
       "      <td>-0.047973</td>\n",
       "      <td>-0.012855</td>\n",
       "      <td>0.029138</td>\n",
       "      <td>-0.006654</td>\n",
       "      <td>0.009551</td>\n",
       "      <td>-0.004272</td>\n",
       "      <td>-0.026978</td>\n",
       "    </tr>\n",
       "    <tr>\n",
       "      <th>477073</th>\n",
       "      <td>-1.343988e+04</td>\n",
       "      <td>-0.028028</td>\n",
       "      <td>-0.004174</td>\n",
       "      <td>0.040249</td>\n",
       "      <td>-1.343954e+04</td>\n",
       "      <td>-2.574365</td>\n",
       "      <td>2.371344</td>\n",
       "      <td>-1.654855</td>\n",
       "      <td>-1.126116</td>\n",
       "      <td>-1.398460</td>\n",
       "      <td>...</td>\n",
       "      <td>-0.001345</td>\n",
       "      <td>0.001982</td>\n",
       "      <td>-0.014596</td>\n",
       "      <td>0.005058</td>\n",
       "      <td>0.005936</td>\n",
       "      <td>-0.001358</td>\n",
       "      <td>-0.003218</td>\n",
       "      <td>0.003140</td>\n",
       "      <td>0.005679</td>\n",
       "      <td>-0.002221</td>\n",
       "    </tr>\n",
       "    <tr>\n",
       "      <th>477074</th>\n",
       "      <td>-1.027999e+05</td>\n",
       "      <td>0.181549</td>\n",
       "      <td>0.126416</td>\n",
       "      <td>0.040249</td>\n",
       "      <td>-9.145863e+04</td>\n",
       "      <td>-0.702729</td>\n",
       "      <td>0.619942</td>\n",
       "      <td>0.842805</td>\n",
       "      <td>0.877332</td>\n",
       "      <td>-0.384113</td>\n",
       "      <td>...</td>\n",
       "      <td>-0.001433</td>\n",
       "      <td>0.003882</td>\n",
       "      <td>0.002399</td>\n",
       "      <td>-0.002214</td>\n",
       "      <td>-0.000403</td>\n",
       "      <td>0.002592</td>\n",
       "      <td>-0.000637</td>\n",
       "      <td>0.000756</td>\n",
       "      <td>-0.001343</td>\n",
       "      <td>-0.000120</td>\n",
       "    </tr>\n",
       "    <tr>\n",
       "      <th>477075</th>\n",
       "      <td>-7.534849e+01</td>\n",
       "      <td>-0.024172</td>\n",
       "      <td>0.000283</td>\n",
       "      <td>0.000499</td>\n",
       "      <td>-9.680114e+05</td>\n",
       "      <td>-0.702729</td>\n",
       "      <td>0.619942</td>\n",
       "      <td>0.842805</td>\n",
       "      <td>0.877332</td>\n",
       "      <td>-0.384113</td>\n",
       "      <td>...</td>\n",
       "      <td>-0.003776</td>\n",
       "      <td>-0.006383</td>\n",
       "      <td>0.003070</td>\n",
       "      <td>0.000144</td>\n",
       "      <td>-0.000320</td>\n",
       "      <td>0.006390</td>\n",
       "      <td>0.004064</td>\n",
       "      <td>0.001612</td>\n",
       "      <td>-0.001478</td>\n",
       "      <td>0.002275</td>\n",
       "    </tr>\n",
       "    <tr>\n",
       "      <th>477076</th>\n",
       "      <td>-1.084499e+06</td>\n",
       "      <td>0.181549</td>\n",
       "      <td>-1.365792</td>\n",
       "      <td>0.040249</td>\n",
       "      <td>-1.084499e+06</td>\n",
       "      <td>-0.702729</td>\n",
       "      <td>0.619942</td>\n",
       "      <td>0.842805</td>\n",
       "      <td>0.877332</td>\n",
       "      <td>-0.384113</td>\n",
       "      <td>...</td>\n",
       "      <td>-0.020006</td>\n",
       "      <td>-0.033165</td>\n",
       "      <td>-0.002149</td>\n",
       "      <td>0.009380</td>\n",
       "      <td>-0.004673</td>\n",
       "      <td>0.004994</td>\n",
       "      <td>0.023278</td>\n",
       "      <td>0.003411</td>\n",
       "      <td>0.003130</td>\n",
       "      <td>0.007054</td>\n",
       "    </tr>\n",
       "  </tbody>\n",
       "</table>\n",
       "<p>477077 rows × 122 columns</p>\n",
       "</div>"
      ],
      "text/plain": [
       "        net_income_usd  total_assets_usd  shareholders_funds_usd  capital_usd  \\\n",
       "0         9.447491e+05          0.181549                     NaN    -0.003279   \n",
       "1         1.765783e+04          0.181549                0.098608     0.040249   \n",
       "2        -2.502728e+04          0.181549               -0.168453     0.040249   \n",
       "3         1.023630e+03          0.181549                0.020692     0.028005   \n",
       "4         6.034728e+02          0.181549                0.013782     0.028005   \n",
       "...                ...               ...                     ...          ...   \n",
       "477072   -9.593861e+03          0.181549                0.188289     0.040249   \n",
       "477073   -1.343988e+04         -0.028028               -0.004174     0.040249   \n",
       "477074   -1.027999e+05          0.181549                0.126416     0.040249   \n",
       "477075   -7.534849e+01         -0.024172                0.000283     0.000499   \n",
       "477076   -1.084499e+06          0.181549               -1.365792     0.040249   \n",
       "\n",
       "         revenue_usd  schooling_years_2020  urban_pop_growth_2022  \\\n",
       "0       3.541786e+06              1.186760              -1.189779   \n",
       "1       1.437969e+06              1.186760              -1.189779   \n",
       "2       1.246335e+06              1.186760              -1.189779   \n",
       "3       7.675140e+05              1.186760              -1.189779   \n",
       "4       7.037159e+05              1.186760              -1.189779   \n",
       "...              ...                   ...                    ...   \n",
       "477072 -7.980458e+03             -2.574365               2.371344   \n",
       "477073 -1.343954e+04             -2.574365               2.371344   \n",
       "477074 -9.145863e+04             -0.702729               0.619942   \n",
       "477075 -9.680114e+05             -0.702729               0.619942   \n",
       "477076 -1.084499e+06             -0.702729               0.619942   \n",
       "\n",
       "        logistics_index_2018  life_expectancy_2022  \\\n",
       "0                  -0.492681             -0.677844   \n",
       "1                  -0.492681             -0.677844   \n",
       "2                  -0.492681             -0.677844   \n",
       "3                  -0.492681             -0.677844   \n",
       "4                  -0.492681             -0.677844   \n",
       "...                      ...                   ...   \n",
       "477072             -1.654855             -1.126116   \n",
       "477073             -1.654855             -1.126116   \n",
       "477074              0.842805              0.877332   \n",
       "477075              0.842805              0.877332   \n",
       "477076              0.842805              0.877332   \n",
       "\n",
       "        female_labor_participation_2023  ...    svd_91    svd_92    svd_93  \\\n",
       "0                              1.057754  ...  0.013482 -0.023297 -0.026130   \n",
       "1                              1.057754  ...  0.012744  0.026045  0.019724   \n",
       "2                              1.057754  ...  0.006091  0.001558 -0.050122   \n",
       "3                              1.057754  ... -0.001193 -0.001749  0.001392   \n",
       "4                              1.057754  ...  0.000117  0.000087  0.000720   \n",
       "...                                 ...  ...       ...       ...       ...   \n",
       "477072                        -1.398460  ... -0.005517  0.001996  0.077717   \n",
       "477073                        -1.398460  ... -0.001345  0.001982 -0.014596   \n",
       "477074                        -0.384113  ... -0.001433  0.003882  0.002399   \n",
       "477075                        -0.384113  ... -0.003776 -0.006383  0.003070   \n",
       "477076                        -0.384113  ... -0.020006 -0.033165 -0.002149   \n",
       "\n",
       "          svd_94    svd_95    svd_96    svd_97    svd_98    svd_99   svd_100  \n",
       "0      -0.019788  0.008973 -0.005500 -0.019473 -0.009817  0.011526 -0.029350  \n",
       "1       0.076969  0.012354 -0.062352 -0.000067  0.075836 -0.045383  0.066350  \n",
       "2       0.024515  0.019798 -0.018739 -0.008884 -0.005824  0.011487  0.007655  \n",
       "3       0.000009 -0.001890 -0.003163 -0.002057 -0.000404  0.000297 -0.000742  \n",
       "4       0.000368 -0.000447  0.000312  0.000811  0.000741 -0.000101 -0.000551  \n",
       "...          ...       ...       ...       ...       ...       ...       ...  \n",
       "477072 -0.047973 -0.012855  0.029138 -0.006654  0.009551 -0.004272 -0.026978  \n",
       "477073  0.005058  0.005936 -0.001358 -0.003218  0.003140  0.005679 -0.002221  \n",
       "477074 -0.002214 -0.000403  0.002592 -0.000637  0.000756 -0.001343 -0.000120  \n",
       "477075  0.000144 -0.000320  0.006390  0.004064  0.001612 -0.001478  0.002275  \n",
       "477076  0.009380 -0.004673  0.004994  0.023278  0.003411  0.003130  0.007054  \n",
       "\n",
       "[477077 rows x 122 columns]"
      ]
     },
     "execution_count": 2,
     "metadata": {},
     "output_type": "execute_result"
    }
   ],
   "source": [
    "# === Step 1: Data Preparation ===\n",
    "# load the data\n",
    "df = pd.read_csv(\"Final_bayes_knn_ols_svm_svd.csv.gz\", compression=\"gzip\")\n",
    "\n",
    "df"
   ]
  },
  {
   "cell_type": "code",
   "execution_count": 3,
   "id": "939b34d4-f4a4-42f6-8548-fff461431587",
   "metadata": {},
   "outputs": [
    {
     "data": {
      "text/plain": [
       "0"
      ]
     },
     "execution_count": 3,
     "metadata": {},
     "output_type": "execute_result"
    }
   ],
   "source": [
    "# create a df for classification\n",
    "df_cls = df.copy()\n",
    "\n",
    "# drop NaN\n",
    "df_cls = df_cls.dropna()\n",
    "df_cls.isna().sum().sum()"
   ]
  },
  {
   "cell_type": "code",
   "execution_count": 4,
   "id": "1b90e90b-d753-46b5-a3a0-1d8cbb52a25f",
   "metadata": {},
   "outputs": [],
   "source": [
    "def create_success_flag(df):\n",
    "    \"\"\"\n",
    "    Create a binary 'success' column based on revenue, net income, and cash flow thresholds.\n",
    "    A company is considered successful if:\n",
    "        - revenue_usd > 455.230 (top quartile)\n",
    "        - net_income_usd > 0 (profitable)\n",
    "\n",
    "    Parameters:\n",
    "        df (pd.DataFrame): Input DataFrame containing startup financial data.\n",
    "\n",
    "    Returns:\n",
    "        df_new (pd.DataFrame): DataFrame with the added 'success' column.\n",
    "        success_counts (pd.Series): Count of 0s and 1s in the 'success' column.\n",
    "    \"\"\"\n",
    "\n",
    "    # Make a copy of the original DataFrame to preserve the input\n",
    "    df_new = df.copy()\n",
    "\n",
    "    # Define the success condition as a binary indicator\n",
    "    # This checks whether all three conditions are met for each row\n",
    "    df_new[\"success\"] = (\n",
    "        (df_new[\"revenue_usd\"] > 455.230) &      # Top quartile of revenue\n",
    "        (df_new[\"net_income_usd\"] > 0)           # Positive net income\n",
    "    ).astype(int)  # Convert boolean values to 0 or 1\n",
    "\n",
    "    # Drop the columns used for creating the target to avoid data leakage\n",
    "    df_new.drop(columns=[\"revenue_usd\", \"net_income_usd\"], inplace=True)\n",
    "\n",
    "    # Count how many startups are labeled as success (1) and not success (0)\n",
    "    success_counts = df_new[\"success\"].value_counts().sort_index()\n",
    "\n",
    "    return df_new, success_counts"
   ]
  },
  {
   "cell_type": "code",
   "execution_count": 5,
   "id": "19de8c5d-7799-4624-89ba-9a8f479f8a51",
   "metadata": {},
   "outputs": [
    {
     "name": "stdout",
     "output_type": "stream",
     "text": [
      "1         1\n",
      "2         0\n",
      "3         1\n",
      "4         1\n",
      "5         1\n",
      "         ..\n",
      "477072    0\n",
      "477073    0\n",
      "477074    0\n",
      "477075    0\n",
      "477076    0\n",
      "Name: success, Length: 476920, dtype: int32\n",
      "success\n",
      "0    390252\n",
      "1     86668\n",
      "Name: count, dtype: int64\n"
     ]
    }
   ],
   "source": [
    "# create a df for classification\n",
    "df_class, success_counts = create_success_flag(df_cls)\n",
    "print(df_class[\"success\"])\n",
    "print(success_counts)"
   ]
  },
  {
   "cell_type": "code",
   "execution_count": 6,
   "id": "3af7380d-7d8d-4a83-85d2-8195f5f3c719",
   "metadata": {},
   "outputs": [],
   "source": [
    "# CLASSIFICATION: Define target and feature columns\n",
    "target_col_cls = \"success\"\n",
    "feature_cols_cls = [col for col in df_class.columns if col != target_col_cls]\n",
    "\n",
    "# Extract features and target\n",
    "X_cls = df_class[feature_cols_cls].values\n",
    "y_cls = df_class[target_col_cls].values\n",
    "\n",
    "# Split into train, validation, and test sets (2D arrays only, no reshape)\n",
    "X_train_cls, X_temp_cls, y_train_cls, y_temp_cls = train_test_split(X_cls, y_cls, test_size=0.3, random_state=42)\n",
    "X_val_cls, X_test_cls, y_val_cls, y_test_cls = train_test_split(X_temp_cls, y_temp_cls, test_size=0.5, random_state=42)"
   ]
  },
  {
   "cell_type": "markdown",
   "id": "9a46c431-293f-4735-b05d-83c46b346aef",
   "metadata": {},
   "source": [
    "## 2. Define the svm model"
   ]
  },
  {
   "cell_type": "code",
   "execution_count": 7,
   "id": "8ace1cda-c8fc-4579-9a12-315768a381cc",
   "metadata": {},
   "outputs": [
    {
     "data": {
      "text/plain": [
       "'\\n# === Step 2: Define svm Model for classification===\\n# CLASSIFICATION: Define svm model for Classification\\nclass svmClassifier(nn.Module):\\n    def __init__(self, input_size, hidden_size, num_layers, num_classes, dropout):\\n        super(svmClassifier, self).__init__()\\n        self.svm = nn.svm(input_size, hidden_size, num_layers,\\n                            batch_first=True, dropout=dropout)\\n        self.fc = nn.Linear(hidden_size, num_classes)\\n\\n    def forward(self, x):\\n        out, _ = self.svm(x)             # svm output\\n        out = out[:, -1, :]               # Use only last time step\\n        out = self.fc(out)                # Final classification layer\\n        return out\\n'"
      ]
     },
     "execution_count": 7,
     "metadata": {},
     "output_type": "execute_result"
    }
   ],
   "source": [
    "'''\n",
    "# === Step 2: Define svm Model for classification===\n",
    "# CLASSIFICATION: Define svm model for Classification\n",
    "class svmClassifier(nn.Module):\n",
    "    def __init__(self, input_size, hidden_size, num_layers, num_classes, dropout):\n",
    "        super(svmClassifier, self).__init__()\n",
    "        self.svm = nn.svm(input_size, hidden_size, num_layers,\n",
    "                            batch_first=True, dropout=dropout)\n",
    "        self.fc = nn.Linear(hidden_size, num_classes)\n",
    "\n",
    "    def forward(self, x):\n",
    "        out, _ = self.svm(x)             # svm output\n",
    "        out = out[:, -1, :]               # Use only last time step\n",
    "        out = self.fc(out)                # Final classification layer\n",
    "        return out\n",
    "'''"
   ]
  },
  {
   "cell_type": "markdown",
   "id": "71e917e4-58dd-43b7-942c-eaa994f1d4f9",
   "metadata": {},
   "source": [
    "## 3. Tune hyperparameters by Optuna"
   ]
  },
  {
   "cell_type": "code",
   "execution_count": 8,
   "id": "ece9fa43-ebb2-4224-8a0b-1fe8797e0c58",
   "metadata": {
    "scrolled": true
   },
   "outputs": [
    {
     "name": "stderr",
     "output_type": "stream",
     "text": [
      "[I 2025-07-26 15:51:08,605] A new study created in memory with name: no-name-6686ac69-865a-4a74-a446-e2700cd9378d\n",
      "C:\\Users\\teppe\\AppData\\Local\\Temp\\ipykernel_12420\\1468185926.py:6: FutureWarning: suggest_loguniform has been deprecated in v3.0.0. This feature will be removed in v6.0.0. See https://github.com/optuna/optuna/releases/tag/v3.0.0. Use suggest_float(..., log=True) instead.\n",
      "  alpha = trial.suggest_loguniform(\"alpha\", 1e-6, 1e-1)\n",
      "[I 2025-07-26 15:51:10,796] Trial 0 finished with value: 0.2584585229866394 and parameters: {'alpha': 0.006307048148097139, 'penalty': 'l2', 'loss': 'hinge'}. Best is trial 0 with value: 0.2584585229866394.\n",
      "C:\\Users\\teppe\\AppData\\Local\\Temp\\ipykernel_12420\\1468185926.py:6: FutureWarning: suggest_loguniform has been deprecated in v3.0.0. This feature will be removed in v6.0.0. See https://github.com/optuna/optuna/releases/tag/v3.0.0. Use suggest_float(..., log=True) instead.\n",
      "  alpha = trial.suggest_loguniform(\"alpha\", 1e-6, 1e-1)\n",
      "[I 2025-07-26 15:51:12,476] Trial 1 finished with value: 0.2636265587377391 and parameters: {'alpha': 0.00011408883529418676, 'penalty': 'elasticnet', 'loss': 'hinge'}. Best is trial 0 with value: 0.2584585229866394.\n",
      "C:\\Users\\teppe\\AppData\\Local\\Temp\\ipykernel_12420\\1468185926.py:6: FutureWarning: suggest_loguniform has been deprecated in v3.0.0. This feature will be removed in v6.0.0. See https://github.com/optuna/optuna/releases/tag/v3.0.0. Use suggest_float(..., log=True) instead.\n",
      "  alpha = trial.suggest_loguniform(\"alpha\", 1e-6, 1e-1)\n",
      "[I 2025-07-26 15:51:13,350] Trial 2 finished with value: 0.25937431020608714 and parameters: {'alpha': 0.0007525514081893201, 'penalty': 'l1', 'loss': 'hinge'}. Best is trial 0 with value: 0.2584585229866394.\n",
      "C:\\Users\\teppe\\AppData\\Local\\Temp\\ipykernel_12420\\1468185926.py:6: FutureWarning: suggest_loguniform has been deprecated in v3.0.0. This feature will be removed in v6.0.0. See https://github.com/optuna/optuna/releases/tag/v3.0.0. Use suggest_float(..., log=True) instead.\n",
      "  alpha = trial.suggest_loguniform(\"alpha\", 1e-6, 1e-1)\n",
      "[I 2025-07-26 15:51:13,810] Trial 3 finished with value: 0.26190790413272813 and parameters: {'alpha': 0.0005541497844737647, 'penalty': 'l2', 'loss': 'hinge'}. Best is trial 0 with value: 0.2584585229866394.\n",
      "C:\\Users\\teppe\\AppData\\Local\\Temp\\ipykernel_12420\\1468185926.py:6: FutureWarning: suggest_loguniform has been deprecated in v3.0.0. This feature will be removed in v6.0.0. See https://github.com/optuna/optuna/releases/tag/v3.0.0. Use suggest_float(..., log=True) instead.\n",
      "  alpha = trial.suggest_loguniform(\"alpha\", 1e-6, 1e-1)\n",
      "[I 2025-07-26 15:51:14,255] Trial 4 finished with value: 0.2600334586418034 and parameters: {'alpha': 0.035705147661279184, 'penalty': 'l2', 'loss': 'hinge'}. Best is trial 0 with value: 0.2584585229866394.\n",
      "C:\\Users\\teppe\\AppData\\Local\\Temp\\ipykernel_12420\\1468185926.py:6: FutureWarning: suggest_loguniform has been deprecated in v3.0.0. This feature will be removed in v6.0.0. See https://github.com/optuna/optuna/releases/tag/v3.0.0. Use suggest_float(..., log=True) instead.\n",
      "  alpha = trial.suggest_loguniform(\"alpha\", 1e-6, 1e-1)\n",
      "[I 2025-07-26 15:51:15,287] Trial 5 finished with value: 0.2634137621854292 and parameters: {'alpha': 9.961816141347465e-05, 'penalty': 'l2', 'loss': 'log_loss'}. Best is trial 0 with value: 0.2584585229866394.\n",
      "C:\\Users\\teppe\\AppData\\Local\\Temp\\ipykernel_12420\\1468185926.py:6: FutureWarning: suggest_loguniform has been deprecated in v3.0.0. This feature will be removed in v6.0.0. See https://github.com/optuna/optuna/releases/tag/v3.0.0. Use suggest_float(..., log=True) instead.\n",
      "  alpha = trial.suggest_loguniform(\"alpha\", 1e-6, 1e-1)\n",
      "[I 2025-07-26 15:51:16,317] Trial 6 finished with value: 0.26372305519443784 and parameters: {'alpha': 0.007133383343692304, 'penalty': 'elasticnet', 'loss': 'hinge'}. Best is trial 0 with value: 0.2584585229866394.\n",
      "C:\\Users\\teppe\\AppData\\Local\\Temp\\ipykernel_12420\\1468185926.py:6: FutureWarning: suggest_loguniform has been deprecated in v3.0.0. This feature will be removed in v6.0.0. See https://github.com/optuna/optuna/releases/tag/v3.0.0. Use suggest_float(..., log=True) instead.\n",
      "  alpha = trial.suggest_loguniform(\"alpha\", 1e-6, 1e-1)\n",
      "[I 2025-07-26 15:51:18,061] Trial 7 finished with value: 0.2618253939083225 and parameters: {'alpha': 3.506003233390264e-05, 'penalty': 'elasticnet', 'loss': 'log_loss'}. Best is trial 0 with value: 0.2584585229866394.\n",
      "C:\\Users\\teppe\\AppData\\Local\\Temp\\ipykernel_12420\\1468185926.py:6: FutureWarning: suggest_loguniform has been deprecated in v3.0.0. This feature will be removed in v6.0.0. See https://github.com/optuna/optuna/releases/tag/v3.0.0. Use suggest_float(..., log=True) instead.\n",
      "  alpha = trial.suggest_loguniform(\"alpha\", 1e-6, 1e-1)\n",
      "[I 2025-07-26 15:51:18,644] Trial 8 finished with value: 0.2590201650379865 and parameters: {'alpha': 7.142797983504687e-06, 'penalty': 'l2', 'loss': 'hinge'}. Best is trial 0 with value: 0.2584585229866394.\n",
      "C:\\Users\\teppe\\AppData\\Local\\Temp\\ipykernel_12420\\1468185926.py:6: FutureWarning: suggest_loguniform has been deprecated in v3.0.0. This feature will be removed in v6.0.0. See https://github.com/optuna/optuna/releases/tag/v3.0.0. Use suggest_float(..., log=True) instead.\n",
      "  alpha = trial.suggest_loguniform(\"alpha\", 1e-6, 1e-1)\n",
      "[I 2025-07-26 15:51:19,158] Trial 9 finished with value: 0.26371613579012987 and parameters: {'alpha': 0.08179787447552438, 'penalty': 'elasticnet', 'loss': 'hinge'}. Best is trial 0 with value: 0.2584585229866394.\n",
      "C:\\Users\\teppe\\AppData\\Local\\Temp\\ipykernel_12420\\1468185926.py:6: FutureWarning: suggest_loguniform has been deprecated in v3.0.0. This feature will be removed in v6.0.0. See https://github.com/optuna/optuna/releases/tag/v3.0.0. Use suggest_float(..., log=True) instead.\n",
      "  alpha = trial.suggest_loguniform(\"alpha\", 1e-6, 1e-1)\n",
      "[I 2025-07-26 15:51:19,750] Trial 10 finished with value: 0.26075336653854875 and parameters: {'alpha': 0.004587824270719473, 'penalty': 'l1', 'loss': 'log_loss'}. Best is trial 0 with value: 0.2584585229866394.\n",
      "C:\\Users\\teppe\\AppData\\Local\\Temp\\ipykernel_12420\\1468185926.py:6: FutureWarning: suggest_loguniform has been deprecated in v3.0.0. This feature will be removed in v6.0.0. See https://github.com/optuna/optuna/releases/tag/v3.0.0. Use suggest_float(..., log=True) instead.\n",
      "  alpha = trial.suggest_loguniform(\"alpha\", 1e-6, 1e-1)\n",
      "[I 2025-07-26 15:51:20,167] Trial 11 finished with value: 0.25060593031212786 and parameters: {'alpha': 1.1059828374055818e-06, 'penalty': 'l2', 'loss': 'hinge'}. Best is trial 11 with value: 0.25060593031212786.\n",
      "C:\\Users\\teppe\\AppData\\Local\\Temp\\ipykernel_12420\\1468185926.py:6: FutureWarning: suggest_loguniform has been deprecated in v3.0.0. This feature will be removed in v6.0.0. See https://github.com/optuna/optuna/releases/tag/v3.0.0. Use suggest_float(..., log=True) instead.\n",
      "  alpha = trial.suggest_loguniform(\"alpha\", 1e-6, 1e-1)\n",
      "[I 2025-07-26 15:51:20,716] Trial 12 finished with value: 0.2624251053855273 and parameters: {'alpha': 2.187287005567587e-06, 'penalty': 'l2', 'loss': 'hinge'}. Best is trial 11 with value: 0.25060593031212786.\n",
      "C:\\Users\\teppe\\AppData\\Local\\Temp\\ipykernel_12420\\1468185926.py:6: FutureWarning: suggest_loguniform has been deprecated in v3.0.0. This feature will be removed in v6.0.0. See https://github.com/optuna/optuna/releases/tag/v3.0.0. Use suggest_float(..., log=True) instead.\n",
      "  alpha = trial.suggest_loguniform(\"alpha\", 1e-6, 1e-1)\n",
      "[I 2025-07-26 15:51:21,133] Trial 13 finished with value: 0.26051071576307805 and parameters: {'alpha': 1.256678145415261e-06, 'penalty': 'l2', 'loss': 'hinge'}. Best is trial 11 with value: 0.25060593031212786.\n",
      "C:\\Users\\teppe\\AppData\\Local\\Temp\\ipykernel_12420\\1468185926.py:6: FutureWarning: suggest_loguniform has been deprecated in v3.0.0. This feature will be removed in v6.0.0. See https://github.com/optuna/optuna/releases/tag/v3.0.0. Use suggest_float(..., log=True) instead.\n",
      "  alpha = trial.suggest_loguniform(\"alpha\", 1e-6, 1e-1)\n",
      "[I 2025-07-26 15:51:21,533] Trial 14 finished with value: 0.26296628349666074 and parameters: {'alpha': 0.0033915975064774495, 'penalty': 'l2', 'loss': 'log_loss'}. Best is trial 11 with value: 0.25060593031212786.\n",
      "C:\\Users\\teppe\\AppData\\Local\\Temp\\ipykernel_12420\\1468185926.py:6: FutureWarning: suggest_loguniform has been deprecated in v3.0.0. This feature will be removed in v6.0.0. See https://github.com/optuna/optuna/releases/tag/v3.0.0. Use suggest_float(..., log=True) instead.\n",
      "  alpha = trial.suggest_loguniform(\"alpha\", 1e-6, 1e-1)\n",
      "[I 2025-07-26 15:51:21,999] Trial 15 finished with value: 0.2611417415678664 and parameters: {'alpha': 2.566932589676596e-05, 'penalty': 'l2', 'loss': 'hinge'}. Best is trial 11 with value: 0.25060593031212786.\n",
      "C:\\Users\\teppe\\AppData\\Local\\Temp\\ipykernel_12420\\1468185926.py:6: FutureWarning: suggest_loguniform has been deprecated in v3.0.0. This feature will be removed in v6.0.0. See https://github.com/optuna/optuna/releases/tag/v3.0.0. Use suggest_float(..., log=True) instead.\n",
      "  alpha = trial.suggest_loguniform(\"alpha\", 1e-6, 1e-1)\n",
      "[I 2025-07-26 15:51:22,333] Trial 16 finished with value: 0.26245847121073784 and parameters: {'alpha': 0.015438336411813816, 'penalty': 'l1', 'loss': 'hinge'}. Best is trial 11 with value: 0.25060593031212786.\n",
      "C:\\Users\\teppe\\AppData\\Local\\Temp\\ipykernel_12420\\1468185926.py:6: FutureWarning: suggest_loguniform has been deprecated in v3.0.0. This feature will be removed in v6.0.0. See https://github.com/optuna/optuna/releases/tag/v3.0.0. Use suggest_float(..., log=True) instead.\n",
      "  alpha = trial.suggest_loguniform(\"alpha\", 1e-6, 1e-1)\n",
      "[I 2025-07-26 15:51:22,766] Trial 17 finished with value: 0.26363607849338866 and parameters: {'alpha': 0.0012223259436611308, 'penalty': 'l2', 'loss': 'hinge'}. Best is trial 11 with value: 0.25060593031212786.\n",
      "C:\\Users\\teppe\\AppData\\Local\\Temp\\ipykernel_12420\\1468185926.py:6: FutureWarning: suggest_loguniform has been deprecated in v3.0.0. This feature will be removed in v6.0.0. See https://github.com/optuna/optuna/releases/tag/v3.0.0. Use suggest_float(..., log=True) instead.\n",
      "  alpha = trial.suggest_loguniform(\"alpha\", 1e-6, 1e-1)\n",
      "[I 2025-07-26 15:51:23,282] Trial 18 finished with value: 0.26354223316885206 and parameters: {'alpha': 4.5884499415856265e-06, 'penalty': 'l2', 'loss': 'log_loss'}. Best is trial 11 with value: 0.25060593031212786.\n",
      "C:\\Users\\teppe\\AppData\\Local\\Temp\\ipykernel_12420\\1468185926.py:6: FutureWarning: suggest_loguniform has been deprecated in v3.0.0. This feature will be removed in v6.0.0. See https://github.com/optuna/optuna/releases/tag/v3.0.0. Use suggest_float(..., log=True) instead.\n",
      "  alpha = trial.suggest_loguniform(\"alpha\", 1e-6, 1e-1)\n",
      "[I 2025-07-26 15:51:24,165] Trial 19 finished with value: 0.259880574146123 and parameters: {'alpha': 0.00011758120876330363, 'penalty': 'l1', 'loss': 'hinge'}. Best is trial 11 with value: 0.25060593031212786.\n"
     ]
    },
    {
     "name": "stdout",
     "output_type": "stream",
     "text": [
      "Best hyperparameters: {'alpha': 1.1059828374055818e-06, 'penalty': 'l2', 'loss': 'hinge'}\n"
     ]
    }
   ],
   "source": [
    "# === Step 3: Optuna Hyperparameter Tuning for SVM Classification ===\n",
    "from sklearn.linear_model import SGDClassifier\n",
    "from sklearn.calibration import CalibratedClassifierCV\n",
    "def objective_sgd_cls(trial):\n",
    "    # Define hyperparameter search space\n",
    "    alpha = trial.suggest_loguniform(\"alpha\", 1e-6, 1e-1)\n",
    "    penalty = trial.suggest_categorical(\"penalty\", [\"l2\", \"l1\", \"elasticnet\"])\n",
    "    loss = trial.suggest_categorical(\"loss\", [\"hinge\", \"log_loss\"])  # hinge = SVM, log_loss = logistic regression\n",
    "\n",
    "    # Use a subset of the training data for tuning\n",
    "    sample_idx = np.random.choice(len(X_train_cls), size=2000, replace=False)\n",
    "    X_tune = X_train_cls[sample_idx]\n",
    "    y_tune = y_train_cls[sample_idx]\n",
    "\n",
    "    # Create base model\n",
    "    base_model = SGDClassifier(\n",
    "        loss=loss,\n",
    "        penalty=penalty,\n",
    "        alpha=alpha,\n",
    "        max_iter=1000,\n",
    "        random_state=42\n",
    "    )\n",
    "\n",
    "    # Calibrate for probability output\n",
    "    model = CalibratedClassifierCV(base_model, cv=3)\n",
    "\n",
    "    # Fit and evaluate\n",
    "    model.fit(X_tune, y_tune)\n",
    "    y_pred = model.predict(X_val_cls)\n",
    "\n",
    "    # Use weighted F1 score as objective\n",
    "    return 1 - f1_score(y_val_cls, y_pred, average=\"weighted\")\n",
    "\n",
    "# Run Optuna study\n",
    "study = optuna.create_study(direction=\"minimize\")\n",
    "study.optimize(objective_sgd_cls, n_trials=20)\n",
    "\n",
    "# Output best parameters\n",
    "best_params_cls = study.best_trial.params\n",
    "print(\"Best hyperparameters:\", best_params_cls)"
   ]
  },
  {
   "cell_type": "markdown",
   "id": "b78cf1aa-b445-46eb-9231-6a47e3a865fc",
   "metadata": {},
   "source": [
    "## 4. Re-learn with the optimized parameters"
   ]
  },
  {
   "cell_type": "code",
   "execution_count": 17,
   "id": "f8d672d6-20e7-4921-aa8e-3efff07ae642",
   "metadata": {
    "editable": true,
    "slideshow": {
     "slide_type": ""
    },
    "tags": []
   },
   "outputs": [],
   "source": [
    "# === Step 4: Train Final Model with Best Params (Classification) ===\n",
    "# Create base model using best hyperparameters\n",
    "base_model = SGDClassifier(\n",
    "    loss=best_params_cls['loss'],\n",
    "    penalty=best_params_cls['penalty'],\n",
    "    alpha=best_params_cls['alpha'],\n",
    "    max_iter=1000,\n",
    "    random_state=42\n",
    ")\n",
    "\n",
    "# Calibrate to enable probability prediction\n",
    "svm_model_cls = CalibratedClassifierCV(base_model, cv=3)\n",
    "\n",
    "# Fit to the full training data\n",
    "svm_model_cls.fit(X_train_cls, y_train_cls)\n",
    "\n",
    "# Predict class probabilities on validation set\n",
    "#y_proba_val = svm_model_cls.predict_proba(X_val_cls)\n",
    "y_pred_labels = svm_model_cls.predict(X_val_cls)\n",
    "\n",
    "# Extract probabilities for each class\n",
    "prob_0 = y_proba_val[:, 0]  # P(class = 0)\n",
    "prob_1 = y_proba_val[:, 1]  # P(class = 1)\n"
   ]
  },
  {
   "cell_type": "code",
   "execution_count": 18,
   "id": "92cd1dad-c2ac-4929-a071-0b0cbd4044d0",
   "metadata": {},
   "outputs": [
    {
     "data": {
      "text/plain": [
       "'\\nimport shap\\n# === Ensure input data is 2D ===\\nX_train_flat = X_train_cls.reshape(X_train_cls.shape[0], -1)\\nX_val_flat = X_val_cls.reshape(X_val_cls.shape[0], -1)\\n\\n# === Define prediction function for SVM classifier ===\\ndef model_predict_svm_classifier(X_numpy):\\n    # SVC must be trained with probability=True for this to work\\n    return svm_model_cls.predict_proba(X_numpy)[:, 1]  # Probability for class 1\\n\\n# === Select background and explanation data ===\\nbackground_data = X_train_flat[:100]\\nexplanation_data = X_val_flat[:50]\\n\\n# === Initialize SHAP KernelExplainer (for black-box models like SVC) ===\\nexplainer = shap.KernelExplainer(model_predict_svm_classifier, background_data)\\n\\n# === Compute SHAP values (list of arrays: one per class) ===\\nshap_values = explainer.shap_values(explanation_data)\\n\\n# === Extract class 1 SHAP values, convert to DataFrame, and save ===\\nfeature_names = feature_cols_cls if \\'feature_cols_cls\\' in locals() else [f\"f{i}\" for i in range(X_train_flat.shape[1])]\\nshap_df = pd.DataFrame(shap_values, columns=feature_names)\\nshap_df.to_csv(\"shap_values_svm_cls.csv\", index=False)\\n\\n# === Generate SHAP summary plot for class 1 ===\\nshap.summary_plot(shap_values, explanation_data, feature_names=feature_names)\\n'"
      ]
     },
     "execution_count": 18,
     "metadata": {},
     "output_type": "execute_result"
    }
   ],
   "source": [
    "'''\n",
    "import shap\n",
    "# === Ensure input data is 2D ===\n",
    "X_train_flat = X_train_cls.reshape(X_train_cls.shape[0], -1)\n",
    "X_val_flat = X_val_cls.reshape(X_val_cls.shape[0], -1)\n",
    "\n",
    "# === Define prediction function for SVM classifier ===\n",
    "def model_predict_svm_classifier(X_numpy):\n",
    "    # SVC must be trained with probability=True for this to work\n",
    "    return svm_model_cls.predict_proba(X_numpy)[:, 1]  # Probability for class 1\n",
    "\n",
    "# === Select background and explanation data ===\n",
    "background_data = X_train_flat[:100]\n",
    "explanation_data = X_val_flat[:50]\n",
    "\n",
    "# === Initialize SHAP KernelExplainer (for black-box models like SVC) ===\n",
    "explainer = shap.KernelExplainer(model_predict_svm_classifier, background_data)\n",
    "\n",
    "# === Compute SHAP values (list of arrays: one per class) ===\n",
    "shap_values = explainer.shap_values(explanation_data)\n",
    "\n",
    "# === Extract class 1 SHAP values, convert to DataFrame, and save ===\n",
    "feature_names = feature_cols_cls if 'feature_cols_cls' in locals() else [f\"f{i}\" for i in range(X_train_flat.shape[1])]\n",
    "shap_df = pd.DataFrame(shap_values, columns=feature_names)\n",
    "shap_df.to_csv(\"shap_values_svm_cls.csv\", index=False)\n",
    "\n",
    "# === Generate SHAP summary plot for class 1 ===\n",
    "shap.summary_plot(shap_values, explanation_data, feature_names=feature_names)\n",
    "'''"
   ]
  },
  {
   "cell_type": "code",
   "execution_count": 19,
   "id": "a47c62d0-9a80-4d5e-b0d7-193d98f85d01",
   "metadata": {},
   "outputs": [
    {
     "data": {
      "image/png": "[encoded data removed]",
      "text/plain": [
       "<Figure size 600x400 with 1 Axes>"
      ]
     },
     "metadata": {},
     "output_type": "display_data"
    }
   ],
   "source": [
    "y_pred_train = svm_model_cls.predict(X_train_cls)\n",
    "y_pred_val = svm_model_cls.predict(X_val_cls)\n",
    "\n",
    "train_f1 = f1_score(y_train_cls, y_pred_train)\n",
    "val_f1 = f1_score(y_val_cls, y_pred_val)\n",
    "\n",
    "plt.figure(figsize=(6,4))\n",
    "plt.bar([\"Train F1\", \"Validation F1\"], [train_f1, val_f1], color=[\"skyblue\", \"salmon\"])\n",
    "plt.title(\"F1 Score Comparison\")\n",
    "plt.ylim(0, 1)\n",
    "plt.grid(True, axis='y')\n",
    "plt.tight_layout()\n",
    "plt.show()"
   ]
  },
  {
   "cell_type": "code",
   "execution_count": 20,
   "id": "883b1780-3d1a-42e8-bdb0-7e16178a956d",
   "metadata": {},
   "outputs": [
    {
     "data": {
      "image/png": "[encoded data removed]",
      "text/plain": [
       "<Figure size 640x480 with 2 Axes>"
      ]
     },
     "metadata": {},
     "output_type": "display_data"
    }
   ],
   "source": [
    "from sklearn.metrics import ConfusionMatrixDisplay, confusion_matrix\n",
    "\n",
    "cm = confusion_matrix(y_val_cls, y_pred_val)\n",
    "ConfusionMatrixDisplay(confusion_matrix=cm).plot()\n",
    "plt.title(\"Confusion Matrix - Validation Set\")\n",
    "plt.tight_layout()\n",
    "plt.show()"
   ]
  },
  {
   "cell_type": "code",
   "execution_count": 21,
   "id": "f5d18371-32bb-436d-8b9e-36c01f1b39f7",
   "metadata": {},
   "outputs": [
    {
     "data": {
      "text/html": [
       "<div>\n",
       "<style scoped>\n",
       "    .dataframe tbody tr th:only-of-type {\n",
       "        vertical-align: middle;\n",
       "    }\n",
       "\n",
       "    .dataframe tbody tr th {\n",
       "        vertical-align: top;\n",
       "    }\n",
       "\n",
       "    .dataframe thead th {\n",
       "        text-align: right;\n",
       "    }\n",
       "</style>\n",
       "<table border=\"1\" class=\"dataframe\">\n",
       "  <thead>\n",
       "    <tr style=\"text-align: right;\">\n",
       "      <th></th>\n",
       "      <th>true_label</th>\n",
       "      <th>predicted_label</th>\n",
       "      <th>probability_0</th>\n",
       "      <th>probability_1</th>\n",
       "    </tr>\n",
       "  </thead>\n",
       "  <tbody>\n",
       "    <tr>\n",
       "      <th>0</th>\n",
       "      <td>0</td>\n",
       "      <td>0</td>\n",
       "      <td>0.768559</td>\n",
       "      <td>0.231441</td>\n",
       "    </tr>\n",
       "    <tr>\n",
       "      <th>1</th>\n",
       "      <td>0</td>\n",
       "      <td>0</td>\n",
       "      <td>0.998186</td>\n",
       "      <td>0.001814</td>\n",
       "    </tr>\n",
       "    <tr>\n",
       "      <th>2</th>\n",
       "      <td>0</td>\n",
       "      <td>0</td>\n",
       "      <td>0.586958</td>\n",
       "      <td>0.413042</td>\n",
       "    </tr>\n",
       "    <tr>\n",
       "      <th>3</th>\n",
       "      <td>0</td>\n",
       "      <td>0</td>\n",
       "      <td>0.754468</td>\n",
       "      <td>0.245532</td>\n",
       "    </tr>\n",
       "    <tr>\n",
       "      <th>4</th>\n",
       "      <td>0</td>\n",
       "      <td>0</td>\n",
       "      <td>0.998057</td>\n",
       "      <td>0.001943</td>\n",
       "    </tr>\n",
       "  </tbody>\n",
       "</table>\n",
       "</div>"
      ],
      "text/plain": [
       "   true_label  predicted_label  probability_0  probability_1\n",
       "0           0                0       0.768559       0.231441\n",
       "1           0                0       0.998186       0.001814\n",
       "2           0                0       0.586958       0.413042\n",
       "3           0                0       0.754468       0.245532\n",
       "4           0                0       0.998057       0.001943"
      ]
     },
     "execution_count": 21,
     "metadata": {},
     "output_type": "execute_result"
    }
   ],
   "source": [
    "# Combine true and predicted labels with predicted probabilities\n",
    "results_cls_df = pd.DataFrame({\n",
    "    \"true_label\": y_val_cls,\n",
    "    \"predicted_label\": y_pred_labels,\n",
    "    \"probability_0\": prob_0,   # Probability for class 0\n",
    "    \"probability_1\": prob_1    # Probability for class 1\n",
    "})\n",
    "\n",
    "# Save to CSV without index\n",
    "results_cls_df.to_csv(\"classification_results.csv\", index=False)\n",
    "\n",
    "# Preview\n",
    "results_cls_df.head()"
   ]
  },
  {
   "cell_type": "markdown",
   "id": "9bacaea4-c3e4-4144-b7f4-b8c41b70e144",
   "metadata": {},
   "source": [
    "## 5. Evaluate the model"
   ]
  },
  {
   "cell_type": "code",
   "execution_count": 23,
   "id": "340642a6-757b-4e34-980d-2f85c84b302e",
   "metadata": {},
   "outputs": [
    {
     "name": "stdout",
     "output_type": "stream",
     "text": [
      "\n",
      "--- Evaluation on Training Data ---\n",
      "AUC-ROC:     0.7993\n",
      "F1-Score:    0.2607\n",
      "Precision:   0.5732\n",
      "Recall:      0.1687\n",
      "Confusion Matrix:\n",
      "[[265510   7627]\n",
      " [ 50465  10242]]\n",
      "Mean G-Mean: 0.4050\n"
     ]
    },
    {
     "data": {
      "image/png": "[encoded data removed]",
      "text/plain": [
       "<Figure size 600x400 with 2 Axes>"
      ]
     },
     "metadata": {},
     "output_type": "display_data"
    },
    {
     "name": "stdout",
     "output_type": "stream",
     "text": [
      "\n",
      "--- Evaluation on Validation Data ---\n",
      "AUC-ROC:     0.7983\n",
      "F1-Score:    0.2610\n",
      "Precision:   0.5685\n",
      "Recall:      0.1694\n",
      "Confusion Matrix:\n",
      "[[56854  1673]\n",
      " [10807  2204]]\n",
      "Mean G-Mean: 0.4057\n"
     ]
    },
    {
     "data": {
      "image/png": "[encoded data removed]",
      "text/plain": [
       "<Figure size 600x400 with 2 Axes>"
      ]
     },
     "metadata": {},
     "output_type": "display_data"
    },
    {
     "name": "stdout",
     "output_type": "stream",
     "text": [
      "\n",
      "--- Evaluation on Test Data ---\n",
      "AUC-ROC:     0.7991\n",
      "F1-Score:    0.2721\n",
      "Precision:   0.5839\n",
      "Recall:      0.1774\n",
      "Confusion Matrix:\n",
      "[[56951  1637]\n",
      " [10653  2297]]\n",
      "Mean G-Mean: 0.4152\n"
     ]
    },
    {
     "data": {
      "image/png": "[encoded data removed]",
      "text/plain": [
       "<Figure size 600x400 with 2 Axes>"
      ]
     },
     "metadata": {},
     "output_type": "display_data"
    }
   ],
   "source": [
    "def evaluate_svm_classifier(model, X, y, dataset_name=\"\", threshold=0.3):\n",
    "    \"\"\"\n",
    "    Evaluate a trained svm classifier on given dataset.\n",
    "    \"\"\"\n",
    "    # Predict probabilities and class labels\n",
    "    prob = model.predict_proba(X)[:, 1]  # Probability of class 1\n",
    "    preds = (prob > threshold).astype(int)     # Apply threshold\n",
    "\n",
    "    # Metrics\n",
    "    auc = roc_auc_score(y, prob)\n",
    "    f1 = f1_score(y, preds)\n",
    "    precision = precision_score(y, preds)\n",
    "    recall = recall_score(y, preds)\n",
    "    conf_matrix = confusion_matrix(y, preds)\n",
    "\n",
    "    # G-Mean\n",
    "    tn, fp, fn, tp = conf_matrix.ravel()\n",
    "    tpr = tp / (tp + fn + 1e-6)\n",
    "    tnr = tn / (tn + fp + 1e-6)\n",
    "    gmean = np.sqrt(tpr * tnr)\n",
    "\n",
    "    # Print results\n",
    "    print(f\"\\n--- Evaluation on {dataset_name} ---\")\n",
    "    print(f\"AUC-ROC:     {auc:.4f}\")\n",
    "    print(f\"F1-Score:    {f1:.4f}\")\n",
    "    print(f\"Precision:   {precision:.4f}\")\n",
    "    print(f\"Recall:      {recall:.4f}\")\n",
    "    print(\"Confusion Matrix:\")\n",
    "    print(conf_matrix)\n",
    "    print(f\"Mean G-Mean: {gmean:.4f}\")\n",
    "\n",
    "    # Confusion matrix plot\n",
    "    plt.figure(figsize=(6, 4))\n",
    "    sns.heatmap(conf_matrix, annot=True, fmt=\"d\", cmap=\"Blues\")\n",
    "    plt.title(f\"Confusion Matrix - {dataset_name}\")\n",
    "    plt.xlabel(\"Predicted\")\n",
    "    plt.ylabel(\"Actual\")\n",
    "    plt.tight_layout()\n",
    "    plt.show()\n",
    "\n",
    "evaluate_svm_classifier(svm_model_cls, X_train_cls, y_train_cls, \"Training Data\")\n",
    "evaluate_svm_classifier(svm_model_cls, X_val_cls, y_val_cls, \"Validation Data\")\n",
    "evaluate_svm_classifier(svm_model_cls, X_test_cls, y_test_cls, \"Test Data\")"
   ]
  },
  {
   "cell_type": "code",
   "execution_count": 25,
   "id": "9031c680-c2b3-4800-9c78-7733b567063d",
   "metadata": {},
   "outputs": [
    {
     "name": "stdout",
     "output_type": "stream",
     "text": [
      "\n",
      "--- Evaluation on Test Data @ 0.3 ---\n",
      "AUC-ROC:     0.7991\n",
      "F1-Score:    0.2721\n",
      "Precision:   0.5839\n",
      "Recall:      0.1774\n",
      "Confusion Matrix:\n",
      "[[56951  1637]\n",
      " [10653  2297]]\n",
      "Mean G-Mean: 0.4152\n"
     ]
    },
    {
     "data": {
      "image/png": "[encoded data removed]",
      "text/plain": [
       "<Figure size 600x400 with 2 Axes>"
      ]
     },
     "metadata": {},
     "output_type": "display_data"
    },
    {
     "name": "stdout",
     "output_type": "stream",
     "text": [
      "\n",
      "--- Evaluation on Test Data @ 0.1 ---\n",
      "AUC-ROC:     0.7991\n",
      "F1-Score:    0.0878\n",
      "Precision:   0.5698\n",
      "Recall:      0.0476\n",
      "Confusion Matrix:\n",
      "[[58123   465]\n",
      " [12334   616]]\n",
      "Mean G-Mean: 0.2172\n"
     ]
    },
    {
     "data": {
      "image/png": "[encoded data removed]",
      "text/plain": [
       "<Figure size 600x400 with 2 Axes>"
      ]
     },
     "metadata": {},
     "output_type": "display_data"
    },
    {
     "name": "stdout",
     "output_type": "stream",
     "text": [
      "\n",
      "--- Evaluation on Test Data @ 0.5 ---\n",
      "AUC-ROC:     0.7991\n",
      "F1-Score:    0.4036\n",
      "Precision:   0.2528\n",
      "Recall:      0.9999\n",
      "Confusion Matrix:\n",
      "[[20324 38264]\n",
      " [    1 12949]]\n",
      "Mean G-Mean: 0.5890\n"
     ]
    },
    {
     "data": {
      "image/png": "[encoded data removed]",
      "text/plain": [
       "<Figure size 600x400 with 2 Axes>"
      ]
     },
     "metadata": {},
     "output_type": "display_data"
    }
   ],
   "source": [
    "evaluate_svm_classifier(svm_model_cls, X_test_cls, y_test_cls, \"Test Data @ 0.3\", threshold=0.3)\n",
    "evaluate_svm_classifier(svm_model_cls, X_test_cls, y_test_cls, \"Test Data @ 0.1\", threshold=0.5)\n",
    "evaluate_svm_classifier(svm_model_cls, X_test_cls, y_test_cls, \"Test Data @ 0.5\", threshold=0.1)"
   ]
  },
  {
   "cell_type": "markdown",
   "id": "828d46a8-c78e-4d2e-b8f8-7d2c9bdc74a0",
   "metadata": {},
   "source": [
    "## 6. Save the model"
   ]
  },
  {
   "cell_type": "code",
   "execution_count": 26,
   "id": "c4418a1d-1cf7-436b-850d-5e4e37dfeee1",
   "metadata": {
    "editable": true,
    "slideshow": {
     "slide_type": ""
    },
    "tags": []
   },
   "outputs": [],
   "source": [
    "import joblib\n",
    "import pandas as pd\n",
    "\n",
    "# Save trained svm model\n",
    "joblib.dump(svm_model_cls, \"svm_cls_model.pkl\")\n",
    "\n",
    "# Save best hyperparameters as CSV\n",
    "params_df = pd.DataFrame([best_params_cls])\n",
    "params_df.to_csv(\"best_params_cls.csv\", index=False)\n",
    "\n",
    "# Save StandardScaler\n",
    "#joblib.dump(scaler, \"scaler.pkl\")"
   ]
  },
  {
   "cell_type": "markdown",
   "id": "ed2c8b44-cdf0-403b-81e2-51081ca866e9",
   "metadata": {},
   "source": [
    "## Optional: load the model"
   ]
  },
  {
   "cell_type": "code",
   "execution_count": null,
   "id": "97c6080b-2ec4-4169-b1fc-5becf4064983",
   "metadata": {},
   "outputs": [],
   "source": [
    "'''\n",
    "import joblib\n",
    "\n",
    "# Load best hyperparameters from CSV\n",
    "loaded_params_df = pd.read_csv(\"best_params_cls.csv\")\n",
    "best_params_cls = loaded_params_df.iloc[0].to_dict()\n",
    "\n",
    "# Convert integer-like float values to int\n",
    "best_params_cls['n_neighbors'] = int(best_params_cls['n_neighbors'])\n",
    "best_params_cls['p'] = int(best_params_cls['p'])\n",
    "\n",
    "# Load trained svm model\n",
    "final_model = joblib.load(\"svm_model.pkl\")\n",
    "\n",
    "# Load scaler\n",
    "#scaler = joblib.load(\"scaler.pkl\")\n",
    "'''"
   ]
  },
  {
   "cell_type": "code",
   "execution_count": null,
   "id": "113481ed-6737-422c-8a2a-9c958b1e176a",
   "metadata": {},
   "outputs": [],
   "source": []
  }
 ],
 "metadata": {
  "kernelspec": {
   "display_name": "Python 3 (ipykernel)",
   "language": "python",
   "name": "python3"
  },
  "language_info": {
   "codemirror_mode": {
    "name": "ipython",
    "version": 3
   },
   "file_extension": ".py",
   "mimetype": "text/x-python",
   "name": "python",
   "nbconvert_exporter": "python",
   "pygments_lexer": "ipython3",
   "version": "3.10.18"
  }
 },
 "nbformat": 4,
 "nbformat_minor": 5
}
