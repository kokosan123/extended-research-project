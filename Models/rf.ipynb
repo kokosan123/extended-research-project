{
 "cells": [
  {
   "cell_type": "markdown",
   "id": "3ebf7ba6-6a42-4664-be6b-7b232e32ae90",
   "metadata": {
    "id": "3ebf7ba6-6a42-4664-be6b-7b232e32ae90"
   },
   "source": [
    "# Extended Research Project Model Development (rf)"
   ]
  },
  {
   "cell_type": "markdown",
   "id": "f64c71d2-0359-489e-adf5-b5c6d751cac1",
   "metadata": {
    "id": "f64c71d2-0359-489e-adf5-b5c6d751cac1"
   },
   "source": [
    "## 1. Preprocess the data"
   ]
  },
  {
   "cell_type": "code",
   "execution_count": 1,
   "id": "hupHhib3Txav",
   "metadata": {
    "colab": {
     "base_uri": "https://localhost:8080/"
    },
    "executionInfo": {
     "elapsed": 61600,
     "status": "ok",
     "timestamp": 1753541671223,
     "user": {
      "displayName": "Koichiro Hara",
      "userId": "05377671056058078801"
     },
     "user_tz": -60
    },
    "id": "hupHhib3Txav",
    "outputId": "7b46f606-1e26-4f63-ea73-fbcbb23a1f66"
   },
   "outputs": [
    {
     "name": "stdout",
     "output_type": "stream",
     "text": [
      "Mounted at /content/drive\n"
     ]
    }
   ],
   "source": [
    "from google.colab import drive\n",
    "drive.mount('/content/drive')"
   ]
  },
  {
   "cell_type": "code",
   "execution_count": 2,
   "id": "Ex4gVI7_UBIw",
   "metadata": {
    "colab": {
     "base_uri": "https://localhost:8080/"
    },
    "executionInfo": {
     "elapsed": 9850,
     "status": "ok",
     "timestamp": 1753541681083,
     "user": {
      "displayName": "Koichiro Hara",
      "userId": "05377671056058078801"
     },
     "user_tz": -60
    },
    "id": "Ex4gVI7_UBIw",
    "outputId": "0b937ced-b2b3-482b-9733-dc2eacab35bc"
   },
   "outputs": [
    {
     "name": "stdout",
     "output_type": "stream",
     "text": [
      "Collecting optuna\n",
      "  Downloading optuna-4.4.0-py3-none-any.whl.metadata (17 kB)\n",
      "Collecting alembic>=1.5.0 (from optuna)\n",
      "  Downloading alembic-1.16.4-py3-none-any.whl.metadata (7.3 kB)\n",
      "Collecting colorlog (from optuna)\n",
      "  Downloading colorlog-6.9.0-py3-none-any.whl.metadata (10 kB)\n",
      "Requirement already satisfied: numpy in /usr/local/lib/python3.11/dist-packages (from optuna) (2.0.2)\n",
      "Requirement already satisfied: packaging>=20.0 in /usr/local/lib/python3.11/dist-packages (from optuna) (25.0)\n",
      "Requirement already satisfied: sqlalchemy>=1.4.2 in /usr/local/lib/python3.11/dist-packages (from optuna) (2.0.41)\n",
      "Requirement already satisfied: tqdm in /usr/local/lib/python3.11/dist-packages (from optuna) (4.67.1)\n",
      "Requirement already satisfied: PyYAML in /usr/local/lib/python3.11/dist-packages (from optuna) (6.0.2)\n",
      "Requirement already satisfied: Mako in /usr/lib/python3/dist-packages (from alembic>=1.5.0->optuna) (1.1.3)\n",
      "Requirement already satisfied: typing-extensions>=4.12 in /usr/local/lib/python3.11/dist-packages (from alembic>=1.5.0->optuna) (4.14.1)\n",
      "Requirement already satisfied: greenlet>=1 in /usr/local/lib/python3.11/dist-packages (from sqlalchemy>=1.4.2->optuna) (3.2.3)\n",
      "Downloading optuna-4.4.0-py3-none-any.whl (395 kB)\n",
      "\u001b[2K   \u001b[90m━━━━━━━━━━━━━━━━━━━━━━━━━━━━━━━━━━━━━━━━\u001b[0m \u001b[32m395.9/395.9 kB\u001b[0m \u001b[31m1.5 MB/s\u001b[0m eta \u001b[36m0:00:00\u001b[0m\n",
      "\u001b[?25hDownloading alembic-1.16.4-py3-none-any.whl (247 kB)\n",
      "\u001b[2K   \u001b[90m━━━━━━━━━━━━━━━━━━━━━━━━━━━━━━━━━━━━━━━━\u001b[0m \u001b[32m247.0/247.0 kB\u001b[0m \u001b[31m6.4 MB/s\u001b[0m eta \u001b[36m0:00:00\u001b[0m\n",
      "\u001b[?25hDownloading colorlog-6.9.0-py3-none-any.whl (11 kB)\n",
      "Installing collected packages: colorlog, alembic, optuna\n",
      "Successfully installed alembic-1.16.4 colorlog-6.9.0 optuna-4.4.0\n"
     ]
    }
   ],
   "source": [
    "pip install optuna"
   ]
  },
  {
   "cell_type": "code",
   "execution_count": 3,
   "id": "f7374850-b553-416b-8da7-62604e2a4c82",
   "metadata": {
    "executionInfo": {
     "elapsed": 2768,
     "status": "ok",
     "timestamp": 1753541683864,
     "user": {
      "displayName": "Koichiro Hara",
      "userId": "05377671056058078801"
     },
     "user_tz": -60
    },
    "id": "f7374850-b553-416b-8da7-62604e2a4c82"
   },
   "outputs": [],
   "source": [
    "# === Step 0: Import Libraries ===\n",
    "from sklearn.model_selection import train_test_split\n",
    "from sklearn.preprocessing import StandardScaler\n",
    "from sklearn.metrics import roc_auc_score, f1_score, precision_score, recall_score, confusion_matrix\n",
    "from sklearn.ensemble import RandomForestClassifier\n",
    "import pandas as pd\n",
    "import numpy as np\n",
    "import optuna\n",
    "import joblib\n",
    "import os\n",
    "import matplotlib.pyplot as plt\n",
    "import seaborn as sns\n",
    "from sklearn.preprocessing import LabelEncoder"
   ]
  },
  {
   "cell_type": "code",
   "execution_count": 4,
   "id": "1d9c766a-8ecd-45e7-8e37-e8504ec1be30",
   "metadata": {
    "colab": {
     "base_uri": "https://localhost:8080/",
     "height": 443
    },
    "executionInfo": {
     "elapsed": 6772,
     "status": "ok",
     "timestamp": 1753541690644,
     "user": {
      "displayName": "Koichiro Hara",
      "userId": "05377671056058078801"
     },
     "user_tz": -60
    },
    "id": "1d9c766a-8ecd-45e7-8e37-e8504ec1be30",
    "outputId": "cf7f571d-7cd3-4f4c-a4b4-bd256560c780"
   },
   "outputs": [
    {
     "data": {
      "application/vnd.google.colaboratory.intrinsic+json": {
       "type": "dataframe",
       "variable_name": "df"
      },
      "text/html": [
       "\n",
       "  <div id=\"df-fd960fea-b0e0-4d7b-a302-2dbbfcbcb28b\" class=\"colab-df-container\">\n",
       "    <div>\n",
       "<style scoped>\n",
       "    .dataframe tbody tr th:only-of-type {\n",
       "        vertical-align: middle;\n",
       "    }\n",
       "\n",
       "    .dataframe tbody tr th {\n",
       "        vertical-align: top;\n",
       "    }\n",
       "\n",
       "    .dataframe thead th {\n",
       "        text-align: right;\n",
       "    }\n",
       "</style>\n",
       "<table border=\"1\" class=\"dataframe\">\n",
       "  <thead>\n",
       "    <tr style=\"text-align: right;\">\n",
       "      <th></th>\n",
       "      <th>net_income_usd</th>\n",
       "      <th>total_assets_usd</th>\n",
       "      <th>shareholders_funds_usd</th>\n",
       "      <th>capital_usd</th>\n",
       "      <th>revenue_usd</th>\n",
       "      <th>schooling_years_2020</th>\n",
       "      <th>urban_pop_growth_2022</th>\n",
       "      <th>logistics_index_2018</th>\n",
       "      <th>life_expectancy_2022</th>\n",
       "      <th>female_labor_participation_2023</th>\n",
       "      <th>...</th>\n",
       "      <th>accounting_template</th>\n",
       "      <th>dm_gender</th>\n",
       "      <th>wb_category</th>\n",
       "      <th>accounting_template_missing</th>\n",
       "      <th>website_exists</th>\n",
       "      <th>description_exists</th>\n",
       "      <th>duo_bvd_id_exists</th>\n",
       "      <th>dm_gender_missing</th>\n",
       "      <th>capital_usd_missing</th>\n",
       "      <th>shareholders_funds_usd_missing</th>\n",
       "    </tr>\n",
       "  </thead>\n",
       "  <tbody>\n",
       "    <tr>\n",
       "      <th>0</th>\n",
       "      <td>9.447491e+05</td>\n",
       "      <td>1.019737e+07</td>\n",
       "      <td>1.501043e+06</td>\n",
       "      <td>0.000000</td>\n",
       "      <td>3.541786e+06</td>\n",
       "      <td>10.680542</td>\n",
       "      <td>38.765999</td>\n",
       "      <td>3.273980</td>\n",
       "      <td>74.580</td>\n",
       "      <td>69.533</td>\n",
       "      <td>...</td>\n",
       "      <td>0</td>\n",
       "      <td>2</td>\n",
       "      <td>0</td>\n",
       "      <td>1</td>\n",
       "      <td>0</td>\n",
       "      <td>1</td>\n",
       "      <td>0</td>\n",
       "      <td>1</td>\n",
       "      <td>0</td>\n",
       "      <td>0</td>\n",
       "    </tr>\n",
       "    <tr>\n",
       "      <th>1</th>\n",
       "      <td>1.765783e+04</td>\n",
       "      <td>3.462970e+05</td>\n",
       "      <td>3.748563e+04</td>\n",
       "      <td>31153.103599</td>\n",
       "      <td>1.437969e+06</td>\n",
       "      <td>10.680542</td>\n",
       "      <td>38.765999</td>\n",
       "      <td>3.273980</td>\n",
       "      <td>74.580</td>\n",
       "      <td>69.533</td>\n",
       "      <td>...</td>\n",
       "      <td>0</td>\n",
       "      <td>2</td>\n",
       "      <td>0</td>\n",
       "      <td>1</td>\n",
       "      <td>0</td>\n",
       "      <td>1</td>\n",
       "      <td>0</td>\n",
       "      <td>1</td>\n",
       "      <td>0</td>\n",
       "      <td>0</td>\n",
       "    </tr>\n",
       "    <tr>\n",
       "      <th>2</th>\n",
       "      <td>-2.502728e+04</td>\n",
       "      <td>5.999055e+05</td>\n",
       "      <td>-7.393448e+04</td>\n",
       "      <td>8380.122017</td>\n",
       "      <td>1.246335e+06</td>\n",
       "      <td>10.680542</td>\n",
       "      <td>38.765999</td>\n",
       "      <td>3.273980</td>\n",
       "      <td>74.580</td>\n",
       "      <td>69.533</td>\n",
       "      <td>...</td>\n",
       "      <td>0</td>\n",
       "      <td>2</td>\n",
       "      <td>0</td>\n",
       "      <td>1</td>\n",
       "      <td>1</td>\n",
       "      <td>1</td>\n",
       "      <td>1</td>\n",
       "      <td>1</td>\n",
       "      <td>0</td>\n",
       "      <td>0</td>\n",
       "    </tr>\n",
       "    <tr>\n",
       "      <th>3</th>\n",
       "      <td>1.023630e+03</td>\n",
       "      <td>3.339065e+05</td>\n",
       "      <td>7.992075e+03</td>\n",
       "      <td>4190.061009</td>\n",
       "      <td>7.675140e+05</td>\n",
       "      <td>10.680542</td>\n",
       "      <td>38.765999</td>\n",
       "      <td>3.273980</td>\n",
       "      <td>74.580</td>\n",
       "      <td>69.533</td>\n",
       "      <td>...</td>\n",
       "      <td>0</td>\n",
       "      <td>2</td>\n",
       "      <td>0</td>\n",
       "      <td>1</td>\n",
       "      <td>0</td>\n",
       "      <td>1</td>\n",
       "      <td>0</td>\n",
       "      <td>1</td>\n",
       "      <td>0</td>\n",
       "      <td>0</td>\n",
       "    </tr>\n",
       "    <tr>\n",
       "      <th>4</th>\n",
       "      <td>6.034728e+02</td>\n",
       "      <td>3.309006e+05</td>\n",
       "      <td>5.263626e+03</td>\n",
       "      <td>4190.061009</td>\n",
       "      <td>7.037159e+05</td>\n",
       "      <td>10.680542</td>\n",
       "      <td>38.765999</td>\n",
       "      <td>3.273980</td>\n",
       "      <td>74.580</td>\n",
       "      <td>69.533</td>\n",
       "      <td>...</td>\n",
       "      <td>0</td>\n",
       "      <td>2</td>\n",
       "      <td>0</td>\n",
       "      <td>1</td>\n",
       "      <td>0</td>\n",
       "      <td>1</td>\n",
       "      <td>0</td>\n",
       "      <td>1</td>\n",
       "      <td>0</td>\n",
       "      <td>0</td>\n",
       "    </tr>\n",
       "    <tr>\n",
       "      <th>...</th>\n",
       "      <td>...</td>\n",
       "      <td>...</td>\n",
       "      <td>...</td>\n",
       "      <td>...</td>\n",
       "      <td>...</td>\n",
       "      <td>...</td>\n",
       "      <td>...</td>\n",
       "      <td>...</td>\n",
       "      <td>...</td>\n",
       "      <td>...</td>\n",
       "      <td>...</td>\n",
       "      <td>...</td>\n",
       "      <td>...</td>\n",
       "      <td>...</td>\n",
       "      <td>...</td>\n",
       "      <td>...</td>\n",
       "      <td>...</td>\n",
       "      <td>...</td>\n",
       "      <td>...</td>\n",
       "      <td>...</td>\n",
       "      <td>...</td>\n",
       "    </tr>\n",
       "    <tr>\n",
       "      <th>477072</th>\n",
       "      <td>-9.593861e+03</td>\n",
       "      <td>6.979673e+04</td>\n",
       "      <td>6.870639e+04</td>\n",
       "      <td>85284.154826</td>\n",
       "      <td>-7.980458e+03</td>\n",
       "      <td>7.872839</td>\n",
       "      <td>87.555000</td>\n",
       "      <td>2.985790</td>\n",
       "      <td>73.425</td>\n",
       "      <td>53.205</td>\n",
       "      <td>...</td>\n",
       "      <td>0</td>\n",
       "      <td>1</td>\n",
       "      <td>1</td>\n",
       "      <td>0</td>\n",
       "      <td>0</td>\n",
       "      <td>0</td>\n",
       "      <td>0</td>\n",
       "      <td>0</td>\n",
       "      <td>0</td>\n",
       "      <td>0</td>\n",
       "    </tr>\n",
       "    <tr>\n",
       "      <th>477073</th>\n",
       "      <td>-1.343988e+04</td>\n",
       "      <td>4.042509e-01</td>\n",
       "      <td>-1.914622e+03</td>\n",
       "      <td>7461.924866</td>\n",
       "      <td>-1.343954e+04</td>\n",
       "      <td>7.872839</td>\n",
       "      <td>87.555000</td>\n",
       "      <td>2.985790</td>\n",
       "      <td>73.425</td>\n",
       "      <td>53.205</td>\n",
       "      <td>...</td>\n",
       "      <td>0</td>\n",
       "      <td>1</td>\n",
       "      <td>1</td>\n",
       "      <td>0</td>\n",
       "      <td>0</td>\n",
       "      <td>0</td>\n",
       "      <td>1</td>\n",
       "      <td>0</td>\n",
       "      <td>0</td>\n",
       "      <td>0</td>\n",
       "    </tr>\n",
       "    <tr>\n",
       "      <th>477074</th>\n",
       "      <td>-1.027999e+05</td>\n",
       "      <td>1.687618e+05</td>\n",
       "      <td>4.746779e+04</td>\n",
       "      <td>16133.758016</td>\n",
       "      <td>-9.145863e+04</td>\n",
       "      <td>9.270027</td>\n",
       "      <td>63.560001</td>\n",
       "      <td>3.605147</td>\n",
       "      <td>78.587</td>\n",
       "      <td>59.948</td>\n",
       "      <td>...</td>\n",
       "      <td>0</td>\n",
       "      <td>1</td>\n",
       "      <td>1</td>\n",
       "      <td>0</td>\n",
       "      <td>0</td>\n",
       "      <td>0</td>\n",
       "      <td>0</td>\n",
       "      <td>0</td>\n",
       "      <td>1</td>\n",
       "      <td>0</td>\n",
       "    </tr>\n",
       "    <tr>\n",
       "      <th>477075</th>\n",
       "      <td>-7.534849e+01</td>\n",
       "      <td>4.646490e+02</td>\n",
       "      <td>-1.208715e+02</td>\n",
       "      <td>499.056965</td>\n",
       "      <td>-9.680114e+05</td>\n",
       "      <td>9.270027</td>\n",
       "      <td>63.560001</td>\n",
       "      <td>3.605147</td>\n",
       "      <td>78.587</td>\n",
       "      <td>59.948</td>\n",
       "      <td>...</td>\n",
       "      <td>0</td>\n",
       "      <td>1</td>\n",
       "      <td>1</td>\n",
       "      <td>0</td>\n",
       "      <td>0</td>\n",
       "      <td>0</td>\n",
       "      <td>0</td>\n",
       "      <td>0</td>\n",
       "      <td>1</td>\n",
       "      <td>0</td>\n",
       "    </tr>\n",
       "    <tr>\n",
       "      <th>477076</th>\n",
       "      <td>-1.084499e+06</td>\n",
       "      <td>9.958574e+05</td>\n",
       "      <td>-1.172711e+06</td>\n",
       "      <td>-384741.858791</td>\n",
       "      <td>-1.084499e+06</td>\n",
       "      <td>9.270027</td>\n",
       "      <td>63.560001</td>\n",
       "      <td>3.605147</td>\n",
       "      <td>78.587</td>\n",
       "      <td>59.948</td>\n",
       "      <td>...</td>\n",
       "      <td>0</td>\n",
       "      <td>1</td>\n",
       "      <td>1</td>\n",
       "      <td>0</td>\n",
       "      <td>0</td>\n",
       "      <td>0</td>\n",
       "      <td>0</td>\n",
       "      <td>0</td>\n",
       "      <td>1</td>\n",
       "      <td>0</td>\n",
       "    </tr>\n",
       "  </tbody>\n",
       "</table>\n",
       "<p>477077 rows × 36 columns</p>\n",
       "</div>\n",
       "    <div class=\"colab-df-buttons\">\n",
       "\n",
       "  <div class=\"colab-df-container\">\n",
       "    <button class=\"colab-df-convert\" onclick=\"convertToInteractive('df-fd960fea-b0e0-4d7b-a302-2dbbfcbcb28b')\"\n",
       "            title=\"Convert this dataframe to an interactive table.\"\n",
       "            style=\"display:none;\">\n",
       "\n",
       "  <svg xmlns=\"http://www.w3.org/2000/svg\" height=\"24px\" viewBox=\"0 -960 960 960\">\n",
       "    <path d=\"M120-120v-720h720v720H120Zm60-500h600v-160H180v160Zm220 220h160v-160H400v160Zm0 220h160v-160H400v160ZM180-400h160v-160H180v160Zm440 0h160v-160H620v160ZM180-180h160v-160H180v160Zm440 0h160v-160H620v160Z\"/>\n",
       "  </svg>\n",
       "    </button>\n",
       "\n",
       "  <style>\n",
       "    .colab-df-container {\n",
       "      display:flex;\n",
       "      gap: 12px;\n",
       "    }\n",
       "\n",
       "    .colab-df-convert {\n",
       "      background-color: #E8F0FE;\n",
       "      border: none;\n",
       "      border-radius: 50%;\n",
       "      cursor: pointer;\n",
       "      display: none;\n",
       "      fill: #1967D2;\n",
       "      height: 32px;\n",
       "      padding: 0 0 0 0;\n",
       "      width: 32px;\n",
       "    }\n",
       "\n",
       "    .colab-df-convert:hover {\n",
       "      background-color: #E2EBFA;\n",
       "      box-shadow: 0px 1px 2px rgba(60, 64, 67, 0.3), 0px 1px 3px 1px rgba(60, 64, 67, 0.15);\n",
       "      fill: #174EA6;\n",
       "    }\n",
       "\n",
       "    .colab-df-buttons div {\n",
       "      margin-bottom: 4px;\n",
       "    }\n",
       "\n",
       "    [theme=dark] .colab-df-convert {\n",
       "      background-color: #3B4455;\n",
       "      fill: #D2E3FC;\n",
       "    }\n",
       "\n",
       "    [theme=dark] .colab-df-convert:hover {\n",
       "      background-color: #434B5C;\n",
       "      box-shadow: 0px 1px 3px 1px rgba(0, 0, 0, 0.15);\n",
       "      filter: drop-shadow(0px 1px 2px rgba(0, 0, 0, 0.3));\n",
       "      fill: #FFFFFF;\n",
       "    }\n",
       "  </style>\n",
       "\n",
       "    <script>\n",
       "      const buttonEl =\n",
       "        document.querySelector('#df-fd960fea-b0e0-4d7b-a302-2dbbfcbcb28b button.colab-df-convert');\n",
       "      buttonEl.style.display =\n",
       "        google.colab.kernel.accessAllowed ? 'block' : 'none';\n",
       "\n",
       "      async function convertToInteractive(key) {\n",
       "        const element = document.querySelector('#df-fd960fea-b0e0-4d7b-a302-2dbbfcbcb28b');\n",
       "        const dataTable =\n",
       "          await google.colab.kernel.invokeFunction('convertToInteractive',\n",
       "                                                    [key], {});\n",
       "        if (!dataTable) return;\n",
       "\n",
       "        const docLinkHtml = 'Like what you see? Visit the ' +\n",
       "          '<a target=\"_blank\" href=https://colab.research.google.com/notebooks/data_table.ipynb>data table notebook</a>'\n",
       "          + ' to learn more about interactive tables.';\n",
       "        element.innerHTML = '';\n",
       "        dataTable['output_type'] = 'display_data';\n",
       "        await google.colab.output.renderOutput(dataTable, element);\n",
       "        const docLink = document.createElement('div');\n",
       "        docLink.innerHTML = docLinkHtml;\n",
       "        element.appendChild(docLink);\n",
       "      }\n",
       "    </script>\n",
       "  </div>\n",
       "\n",
       "\n",
       "    <div id=\"df-4c3ebabc-fe7f-43b4-bcc9-74e79e263818\">\n",
       "      <button class=\"colab-df-quickchart\" onclick=\"quickchart('df-4c3ebabc-fe7f-43b4-bcc9-74e79e263818')\"\n",
       "                title=\"Suggest charts\"\n",
       "                style=\"display:none;\">\n",
       "\n",
       "<svg xmlns=\"http://www.w3.org/2000/svg\" height=\"24px\"viewBox=\"0 0 24 24\"\n",
       "     width=\"24px\">\n",
       "    <g>\n",
       "        <path d=\"M19 3H5c-1.1 0-2 .9-2 2v14c0 1.1.9 2 2 2h14c1.1 0 2-.9 2-2V5c0-1.1-.9-2-2-2zM9 17H7v-7h2v7zm4 0h-2V7h2v10zm4 0h-2v-4h2v4z\"/>\n",
       "    </g>\n",
       "</svg>\n",
       "      </button>\n",
       "\n",
       "<style>\n",
       "  .colab-df-quickchart {\n",
       "      --bg-color: #E8F0FE;\n",
       "      --fill-color: #1967D2;\n",
       "      --hover-bg-color: #E2EBFA;\n",
       "      --hover-fill-color: #174EA6;\n",
       "      --disabled-fill-color: #AAA;\n",
       "      --disabled-bg-color: #DDD;\n",
       "  }\n",
       "\n",
       "  [theme=dark] .colab-df-quickchart {\n",
       "      --bg-color: #3B4455;\n",
       "      --fill-color: #D2E3FC;\n",
       "      --hover-bg-color: #434B5C;\n",
       "      --hover-fill-color: #FFFFFF;\n",
       "      --disabled-bg-color: #3B4455;\n",
       "      --disabled-fill-color: #666;\n",
       "  }\n",
       "\n",
       "  .colab-df-quickchart {\n",
       "    background-color: var(--bg-color);\n",
       "    border: none;\n",
       "    border-radius: 50%;\n",
       "    cursor: pointer;\n",
       "    display: none;\n",
       "    fill: var(--fill-color);\n",
       "    height: 32px;\n",
       "    padding: 0;\n",
       "    width: 32px;\n",
       "  }\n",
       "\n",
       "  .colab-df-quickchart:hover {\n",
       "    background-color: var(--hover-bg-color);\n",
       "    box-shadow: 0 1px 2px rgba(60, 64, 67, 0.3), 0 1px 3px 1px rgba(60, 64, 67, 0.15);\n",
       "    fill: var(--button-hover-fill-color);\n",
       "  }\n",
       "\n",
       "  .colab-df-quickchart-complete:disabled,\n",
       "  .colab-df-quickchart-complete:disabled:hover {\n",
       "    background-color: var(--disabled-bg-color);\n",
       "    fill: var(--disabled-fill-color);\n",
       "    box-shadow: none;\n",
       "  }\n",
       "\n",
       "  .colab-df-spinner {\n",
       "    border: 2px solid var(--fill-color);\n",
       "    border-color: transparent;\n",
       "    border-bottom-color: var(--fill-color);\n",
       "    animation:\n",
       "      spin 1s steps(1) infinite;\n",
       "  }\n",
       "\n",
       "  @keyframes spin {\n",
       "    0% {\n",
       "      border-color: transparent;\n",
       "      border-bottom-color: var(--fill-color);\n",
       "      border-left-color: var(--fill-color);\n",
       "    }\n",
       "    20% {\n",
       "      border-color: transparent;\n",
       "      border-left-color: var(--fill-color);\n",
       "      border-top-color: var(--fill-color);\n",
       "    }\n",
       "    30% {\n",
       "      border-color: transparent;\n",
       "      border-left-color: var(--fill-color);\n",
       "      border-top-color: var(--fill-color);\n",
       "      border-right-color: var(--fill-color);\n",
       "    }\n",
       "    40% {\n",
       "      border-color: transparent;\n",
       "      border-right-color: var(--fill-color);\n",
       "      border-top-color: var(--fill-color);\n",
       "    }\n",
       "    60% {\n",
       "      border-color: transparent;\n",
       "      border-right-color: var(--fill-color);\n",
       "    }\n",
       "    80% {\n",
       "      border-color: transparent;\n",
       "      border-right-color: var(--fill-color);\n",
       "      border-bottom-color: var(--fill-color);\n",
       "    }\n",
       "    90% {\n",
       "      border-color: transparent;\n",
       "      border-bottom-color: var(--fill-color);\n",
       "    }\n",
       "  }\n",
       "</style>\n",
       "\n",
       "      <script>\n",
       "        async function quickchart(key) {\n",
       "          const quickchartButtonEl =\n",
       "            document.querySelector('#' + key + ' button');\n",
       "          quickchartButtonEl.disabled = true;  // To prevent multiple clicks.\n",
       "          quickchartButtonEl.classList.add('colab-df-spinner');\n",
       "          try {\n",
       "            const charts = await google.colab.kernel.invokeFunction(\n",
       "                'suggestCharts', [key], {});\n",
       "          } catch (error) {\n",
       "            console.error('Error during call to suggestCharts:', error);\n",
       "          }\n",
       "          quickchartButtonEl.classList.remove('colab-df-spinner');\n",
       "          quickchartButtonEl.classList.add('colab-df-quickchart-complete');\n",
       "        }\n",
       "        (() => {\n",
       "          let quickchartButtonEl =\n",
       "            document.querySelector('#df-4c3ebabc-fe7f-43b4-bcc9-74e79e263818 button');\n",
       "          quickchartButtonEl.style.display =\n",
       "            google.colab.kernel.accessAllowed ? 'block' : 'none';\n",
       "        })();\n",
       "      </script>\n",
       "    </div>\n",
       "\n",
       "  <div id=\"id_cc716875-1394-491d-9d1f-51f96edbf405\">\n",
       "    <style>\n",
       "      .colab-df-generate {\n",
       "        background-color: #E8F0FE;\n",
       "        border: none;\n",
       "        border-radius: 50%;\n",
       "        cursor: pointer;\n",
       "        display: none;\n",
       "        fill: #1967D2;\n",
       "        height: 32px;\n",
       "        padding: 0 0 0 0;\n",
       "        width: 32px;\n",
       "      }\n",
       "\n",
       "      .colab-df-generate:hover {\n",
       "        background-color: #E2EBFA;\n",
       "        box-shadow: 0px 1px 2px rgba(60, 64, 67, 0.3), 0px 1px 3px 1px rgba(60, 64, 67, 0.15);\n",
       "        fill: #174EA6;\n",
       "      }\n",
       "\n",
       "      [theme=dark] .colab-df-generate {\n",
       "        background-color: #3B4455;\n",
       "        fill: #D2E3FC;\n",
       "      }\n",
       "\n",
       "      [theme=dark] .colab-df-generate:hover {\n",
       "        background-color: #434B5C;\n",
       "        box-shadow: 0px 1px 3px 1px rgba(0, 0, 0, 0.15);\n",
       "        filter: drop-shadow(0px 1px 2px rgba(0, 0, 0, 0.3));\n",
       "        fill: #FFFFFF;\n",
       "      }\n",
       "    </style>\n",
       "    <button class=\"colab-df-generate\" onclick=\"generateWithVariable('df')\"\n",
       "            title=\"Generate code using this dataframe.\"\n",
       "            style=\"display:none;\">\n",
       "\n",
       "  <svg xmlns=\"http://www.w3.org/2000/svg\" height=\"24px\"viewBox=\"0 0 24 24\"\n",
       "       width=\"24px\">\n",
       "    <path d=\"M7,19H8.4L18.45,9,17,7.55,7,17.6ZM5,21V16.75L18.45,3.32a2,2,0,0,1,2.83,0l1.4,1.43a1.91,1.91,0,0,1,.58,1.4,1.91,1.91,0,0,1-.58,1.4L9.25,21ZM18.45,9,17,7.55Zm-12,3A5.31,5.31,0,0,0,4.9,8.1,5.31,5.31,0,0,0,1,6.5,5.31,5.31,0,0,0,4.9,4.9,5.31,5.31,0,0,0,6.5,1,5.31,5.31,0,0,0,8.1,4.9,5.31,5.31,0,0,0,12,6.5,5.46,5.46,0,0,0,6.5,12Z\"/>\n",
       "  </svg>\n",
       "    </button>\n",
       "    <script>\n",
       "      (() => {\n",
       "      const buttonEl =\n",
       "        document.querySelector('#id_cc716875-1394-491d-9d1f-51f96edbf405 button.colab-df-generate');\n",
       "      buttonEl.style.display =\n",
       "        google.colab.kernel.accessAllowed ? 'block' : 'none';\n",
       "\n",
       "      buttonEl.onclick = () => {\n",
       "        google.colab.notebook.generateWithVariable('df');\n",
       "      }\n",
       "      })();\n",
       "    </script>\n",
       "  </div>\n",
       "\n",
       "    </div>\n",
       "  </div>\n"
      ],
      "text/plain": [
       "        net_income_usd  total_assets_usd  shareholders_funds_usd  \\\n",
       "0         9.447491e+05      1.019737e+07            1.501043e+06   \n",
       "1         1.765783e+04      3.462970e+05            3.748563e+04   \n",
       "2        -2.502728e+04      5.999055e+05           -7.393448e+04   \n",
       "3         1.023630e+03      3.339065e+05            7.992075e+03   \n",
       "4         6.034728e+02      3.309006e+05            5.263626e+03   \n",
       "...                ...               ...                     ...   \n",
       "477072   -9.593861e+03      6.979673e+04            6.870639e+04   \n",
       "477073   -1.343988e+04      4.042509e-01           -1.914622e+03   \n",
       "477074   -1.027999e+05      1.687618e+05            4.746779e+04   \n",
       "477075   -7.534849e+01      4.646490e+02           -1.208715e+02   \n",
       "477076   -1.084499e+06      9.958574e+05           -1.172711e+06   \n",
       "\n",
       "          capital_usd   revenue_usd  schooling_years_2020  \\\n",
       "0            0.000000  3.541786e+06             10.680542   \n",
       "1        31153.103599  1.437969e+06             10.680542   \n",
       "2         8380.122017  1.246335e+06             10.680542   \n",
       "3         4190.061009  7.675140e+05             10.680542   \n",
       "4         4190.061009  7.037159e+05             10.680542   \n",
       "...               ...           ...                   ...   \n",
       "477072   85284.154826 -7.980458e+03              7.872839   \n",
       "477073    7461.924866 -1.343954e+04              7.872839   \n",
       "477074   16133.758016 -9.145863e+04              9.270027   \n",
       "477075     499.056965 -9.680114e+05              9.270027   \n",
       "477076 -384741.858791 -1.084499e+06              9.270027   \n",
       "\n",
       "        urban_pop_growth_2022  logistics_index_2018  life_expectancy_2022  \\\n",
       "0                   38.765999              3.273980                74.580   \n",
       "1                   38.765999              3.273980                74.580   \n",
       "2                   38.765999              3.273980                74.580   \n",
       "3                   38.765999              3.273980                74.580   \n",
       "4                   38.765999              3.273980                74.580   \n",
       "...                       ...                   ...                   ...   \n",
       "477072              87.555000              2.985790                73.425   \n",
       "477073              87.555000              2.985790                73.425   \n",
       "477074              63.560001              3.605147                78.587   \n",
       "477075              63.560001              3.605147                78.587   \n",
       "477076              63.560001              3.605147                78.587   \n",
       "\n",
       "        female_labor_participation_2023  ...  accounting_template  dm_gender  \\\n",
       "0                                69.533  ...                    0          2   \n",
       "1                                69.533  ...                    0          2   \n",
       "2                                69.533  ...                    0          2   \n",
       "3                                69.533  ...                    0          2   \n",
       "4                                69.533  ...                    0          2   \n",
       "...                                 ...  ...                  ...        ...   \n",
       "477072                           53.205  ...                    0          1   \n",
       "477073                           53.205  ...                    0          1   \n",
       "477074                           59.948  ...                    0          1   \n",
       "477075                           59.948  ...                    0          1   \n",
       "477076                           59.948  ...                    0          1   \n",
       "\n",
       "        wb_category  accounting_template_missing  website_exists  \\\n",
       "0                 0                            1               0   \n",
       "1                 0                            1               0   \n",
       "2                 0                            1               1   \n",
       "3                 0                            1               0   \n",
       "4                 0                            1               0   \n",
       "...             ...                          ...             ...   \n",
       "477072            1                            0               0   \n",
       "477073            1                            0               0   \n",
       "477074            1                            0               0   \n",
       "477075            1                            0               0   \n",
       "477076            1                            0               0   \n",
       "\n",
       "        description_exists  duo_bvd_id_exists  dm_gender_missing  \\\n",
       "0                        1                  0                  1   \n",
       "1                        1                  0                  1   \n",
       "2                        1                  1                  1   \n",
       "3                        1                  0                  1   \n",
       "4                        1                  0                  1   \n",
       "...                    ...                ...                ...   \n",
       "477072                   0                  0                  0   \n",
       "477073                   0                  1                  0   \n",
       "477074                   0                  0                  0   \n",
       "477075                   0                  0                  0   \n",
       "477076                   0                  0                  0   \n",
       "\n",
       "        capital_usd_missing  shareholders_funds_usd_missing  \n",
       "0                         0                               0  \n",
       "1                         0                               0  \n",
       "2                         0                               0  \n",
       "3                         0                               0  \n",
       "4                         0                               0  \n",
       "...                     ...                             ...  \n",
       "477072                    0                               0  \n",
       "477073                    0                               0  \n",
       "477074                    1                               0  \n",
       "477075                    1                               0  \n",
       "477076                    1                               0  \n",
       "\n",
       "[477077 rows x 36 columns]"
      ]
     },
     "execution_count": 4,
     "metadata": {},
     "output_type": "execute_result"
    }
   ],
   "source": [
    "# === Step 1: Data Preparation ===\n",
    "# load the data\n",
    "df = pd.read_csv(\"/content/drive/MyDrive/ERP/Random Forest/Final_xgb_rf.csv.gz\", compression=\"gzip\")\n",
    "\n",
    "df"
   ]
  },
  {
   "cell_type": "code",
   "execution_count": 5,
   "id": "939b34d4-f4a4-42f6-8548-fff461431587",
   "metadata": {
    "colab": {
     "base_uri": "https://localhost:8080/"
    },
    "executionInfo": {
     "elapsed": 60,
     "status": "ok",
     "timestamp": 1753541690709,
     "user": {
      "displayName": "Koichiro Hara",
      "userId": "05377671056058078801"
     },
     "user_tz": -60
    },
    "id": "939b34d4-f4a4-42f6-8548-fff461431587",
    "outputId": "197b1a07-fe58-4d80-f13d-f0096fdef17f"
   },
   "outputs": [
    {
     "data": {
      "text/plain": [
       "np.int64(0)"
      ]
     },
     "execution_count": 5,
     "metadata": {},
     "output_type": "execute_result"
    }
   ],
   "source": [
    "# create a df for classification\n",
    "df_cls = df.copy()\n",
    "\n",
    "# drop NaN\n",
    "df_cls = df_cls.dropna()\n",
    "df_cls.isna().sum().sum()"
   ]
  },
  {
   "cell_type": "code",
   "execution_count": 6,
   "id": "1b90e90b-d753-46b5-a3a0-1d8cbb52a25f",
   "metadata": {
    "executionInfo": {
     "elapsed": 13,
     "status": "ok",
     "timestamp": 1753541690726,
     "user": {
      "displayName": "Koichiro Hara",
      "userId": "05377671056058078801"
     },
     "user_tz": -60
    },
    "id": "1b90e90b-d753-46b5-a3a0-1d8cbb52a25f"
   },
   "outputs": [],
   "source": [
    "def create_success_flag(df):\n",
    "    \"\"\"\n",
    "    Create a binary 'success' column based on revenue, net income, and cash flow thresholds.\n",
    "    A company is considered successful if:\n",
    "        - revenue_usd > 455.230 (top quartile)\n",
    "        - net_income_usd > 0 (profitable)\n",
    "\n",
    "    Parameters:\n",
    "        df (pd.DataFrame): Input DataFrame containing startup financial data.\n",
    "\n",
    "    Returns:\n",
    "        df_new (pd.DataFrame): DataFrame with the added 'success' column.\n",
    "        success_counts (pd.Series): Count of 0s and 1s in the 'success' column.\n",
    "    \"\"\"\n",
    "\n",
    "    # Make a copy of the original DataFrame to preserve the input\n",
    "    df_new = df.copy()\n",
    "\n",
    "    # Define the success condition as a binary indicator\n",
    "    # This checks whether all three conditions are met for each row\n",
    "    df_new[\"success\"] = (\n",
    "        (df_new[\"revenue_usd\"] > 455.230) &      # Top quartile of revenue\n",
    "        (df_new[\"net_income_usd\"] > 0)           # Positive net income\n",
    "    ).astype(int)  # Convert boolean values to 0 or 1\n",
    "\n",
    "    # Drop the columns used for creating the target to avoid data leakage\n",
    "    df_new.drop(columns=[\"revenue_usd\", \"net_income_usd\"], inplace=True)\n",
    "\n",
    "    # Count how many startups are labeled as success (1) and not success (0)\n",
    "    success_counts = df_new[\"success\"].value_counts().sort_index()\n",
    "\n",
    "    return df_new, success_counts"
   ]
  },
  {
   "cell_type": "code",
   "execution_count": 7,
   "id": "19de8c5d-7799-4624-89ba-9a8f479f8a51",
   "metadata": {
    "colab": {
     "base_uri": "https://localhost:8080/"
    },
    "executionInfo": {
     "elapsed": 100,
     "status": "ok",
     "timestamp": 1753541690829,
     "user": {
      "displayName": "Koichiro Hara",
      "userId": "05377671056058078801"
     },
     "user_tz": -60
    },
    "id": "19de8c5d-7799-4624-89ba-9a8f479f8a51",
    "outputId": "dc30d781-6ad0-4c7d-9983-064aee407a3e"
   },
   "outputs": [
    {
     "name": "stdout",
     "output_type": "stream",
     "text": [
      "0         1\n",
      "1         1\n",
      "2         0\n",
      "3         1\n",
      "4         1\n",
      "         ..\n",
      "477072    0\n",
      "477073    0\n",
      "477074    0\n",
      "477075    0\n",
      "477076    0\n",
      "Name: success, Length: 477077, dtype: int64\n",
      "success\n",
      "0    390322\n",
      "1     86755\n",
      "Name: count, dtype: int64\n"
     ]
    }
   ],
   "source": [
    "# create a df for classification\n",
    "df_class, success_counts = create_success_flag(df_cls)\n",
    "print(df_class[\"success\"])\n",
    "print(success_counts)"
   ]
  },
  {
   "cell_type": "code",
   "execution_count": 8,
   "id": "3af7380d-7d8d-4a83-85d2-8195f5f3c719",
   "metadata": {
    "executionInfo": {
     "elapsed": 387,
     "status": "ok",
     "timestamp": 1753541691220,
     "user": {
      "displayName": "Koichiro Hara",
      "userId": "05377671056058078801"
     },
     "user_tz": -60
    },
    "id": "3af7380d-7d8d-4a83-85d2-8195f5f3c719"
   },
   "outputs": [],
   "source": [
    "# CLASSIFICATION: Define target and feature columns\n",
    "target_col_cls = \"success\"\n",
    "feature_cols_cls = [col for col in df_class.columns if col != target_col_cls]\n",
    "\n",
    "# Extract features and target\n",
    "X_cls = df_class[feature_cols_cls].values\n",
    "y_cls = df_class[target_col_cls].values\n",
    "\n",
    "# Split into train, validation, and test sets (2D arrays only, no reshape)\n",
    "X_train_cls, X_temp_cls, y_train_cls, y_temp_cls = train_test_split(X_cls, y_cls, test_size=0.3, random_state=42)\n",
    "X_val_cls, X_test_cls, y_val_cls, y_test_cls = train_test_split(X_temp_cls, y_temp_cls, test_size=0.5, random_state=42)"
   ]
  },
  {
   "cell_type": "markdown",
   "id": "9a46c431-293f-4735-b05d-83c46b346aef",
   "metadata": {
    "id": "9a46c431-293f-4735-b05d-83c46b346aef"
   },
   "source": [
    "## 2. Define the rf model"
   ]
  },
  {
   "cell_type": "code",
   "execution_count": 9,
   "id": "8ace1cda-c8fc-4579-9a12-315768a381cc",
   "metadata": {
    "colab": {
     "base_uri": "https://localhost:8080/",
     "height": 108
    },
    "executionInfo": {
     "elapsed": 49,
     "status": "ok",
     "timestamp": 1753541691281,
     "user": {
      "displayName": "Koichiro Hara",
      "userId": "05377671056058078801"
     },
     "user_tz": -60
    },
    "id": "8ace1cda-c8fc-4579-9a12-315768a381cc",
    "outputId": "e9b2d039-6c23-4878-d022-5be0532cf53b"
   },
   "outputs": [
    {
     "data": {
      "application/vnd.google.colaboratory.intrinsic+json": {
       "type": "string"
      },
      "text/plain": [
       "'\\n# === Step 2: Define rf Model for classification===\\n# CLASSIFICATION: Define rf model for Classification\\nclass rfClassifier(nn.Module):\\n    def __init__(self, input_size, hidden_size, num_layers, num_classes, dropout):\\n        super(rfClassifier, self).__init__()\\n        self.rf = nn.rf(input_size, hidden_size, num_layers,\\n                            batch_first=True, dropout=dropout)\\n        self.fc = nn.Linear(hidden_size, num_classes)\\n\\n    def forward(self, x):\\n        out, _ = self.rf(x)             # rf output\\n        out = out[:, -1, :]               # Use only last time step\\n        out = self.fc(out)                # Final classification layer\\n        return out\\n'"
      ]
     },
     "execution_count": 9,
     "metadata": {},
     "output_type": "execute_result"
    }
   ],
   "source": [
    "'''\n",
    "# === Step 2: Define rf Model for classification===\n",
    "# CLASSIFICATION: Define rf model for Classification\n",
    "class rfClassifier(nn.Module):\n",
    "    def __init__(self, input_size, hidden_size, num_layers, num_classes, dropout):\n",
    "        super(rfClassifier, self).__init__()\n",
    "        self.rf = nn.rf(input_size, hidden_size, num_layers,\n",
    "                            batch_first=True, dropout=dropout)\n",
    "        self.fc = nn.Linear(hidden_size, num_classes)\n",
    "\n",
    "    def forward(self, x):\n",
    "        out, _ = self.rf(x)             # rf output\n",
    "        out = out[:, -1, :]               # Use only last time step\n",
    "        out = self.fc(out)                # Final classification layer\n",
    "        return out\n",
    "'''"
   ]
  },
  {
   "cell_type": "markdown",
   "id": "71e917e4-58dd-43b7-942c-eaa994f1d4f9",
   "metadata": {
    "id": "71e917e4-58dd-43b7-942c-eaa994f1d4f9"
   },
   "source": [
    "## 3. Tune hyperparameters by Optuna"
   ]
  },
  {
   "cell_type": "code",
   "execution_count": 10,
   "id": "ece9fa43-ebb2-4224-8a0b-1fe8797e0c58",
   "metadata": {
    "colab": {
     "base_uri": "https://localhost:8080/"
    },
    "executionInfo": {
     "elapsed": 1341578,
     "status": "ok",
     "timestamp": 1753543032865,
     "user": {
      "displayName": "Koichiro Hara",
      "userId": "05377671056058078801"
     },
     "user_tz": -60
    },
    "id": "ece9fa43-ebb2-4224-8a0b-1fe8797e0c58",
    "outputId": "532e6235-dbc8-4bb8-ba06-f541e6e47df9",
    "scrolled": true
   },
   "outputs": [
    {
     "name": "stderr",
     "output_type": "stream",
     "text": [
      "[I 2025-07-26 14:54:50,805] A new study created in memory with name: no-name-156c6892-cf09-4190-9880-850568f97274\n",
      "[I 2025-07-26 14:55:16,942] Trial 0 finished with value: 0.13529612282339465 and parameters: {'n_estimators': 234, 'max_depth': 28, 'min_samples_split': 2, 'min_samples_leaf': 1, 'max_features': 'sqrt'}. Best is trial 0 with value: 0.13529612282339465.\n",
      "[I 2025-07-26 14:56:50,394] Trial 1 finished with value: 0.1289282389278893 and parameters: {'n_estimators': 197, 'max_depth': 17, 'min_samples_split': 9, 'min_samples_leaf': 4, 'max_features': None}. Best is trial 1 with value: 0.1289282389278893.\n",
      "[I 2025-07-26 14:58:09,346] Trial 2 finished with value: 0.13015821710784714 and parameters: {'n_estimators': 161, 'max_depth': 24, 'min_samples_split': 5, 'min_samples_leaf': 5, 'max_features': None}. Best is trial 1 with value: 0.1289282389278893.\n",
      "[I 2025-07-26 14:58:38,543] Trial 3 finished with value: 0.13112898441940124 and parameters: {'n_estimators': 292, 'max_depth': 20, 'min_samples_split': 7, 'min_samples_leaf': 1, 'max_features': 'sqrt'}. Best is trial 1 with value: 0.1289282389278893.\n",
      "[I 2025-07-26 14:58:50,078] Trial 4 finished with value: 0.13725164027477454 and parameters: {'n_estimators': 124, 'max_depth': 16, 'min_samples_split': 2, 'min_samples_leaf': 4, 'max_features': 'log2'}. Best is trial 1 with value: 0.1289282389278893.\n",
      "[I 2025-07-26 15:00:46,379] Trial 5 finished with value: 0.12968316626815002 and parameters: {'n_estimators': 245, 'max_depth': 18, 'min_samples_split': 5, 'min_samples_leaf': 1, 'max_features': None}. Best is trial 1 with value: 0.1289282389278893.\n",
      "[I 2025-07-26 15:01:11,072] Trial 6 finished with value: 0.13499637550197985 and parameters: {'n_estimators': 260, 'max_depth': 22, 'min_samples_split': 6, 'min_samples_leaf': 4, 'max_features': 'log2'}. Best is trial 1 with value: 0.1289282389278893.\n",
      "[I 2025-07-26 15:02:52,336] Trial 7 finished with value: 0.1328534174960596 and parameters: {'n_estimators': 268, 'max_depth': 9, 'min_samples_split': 4, 'min_samples_leaf': 2, 'max_features': None}. Best is trial 1 with value: 0.1289282389278893.\n",
      "[I 2025-07-26 15:04:49,184] Trial 8 finished with value: 0.131912103191118 and parameters: {'n_estimators': 237, 'max_depth': 29, 'min_samples_split': 5, 'min_samples_leaf': 4, 'max_features': None}. Best is trial 1 with value: 0.1289282389278893.\n",
      "[I 2025-07-26 15:04:56,405] Trial 9 finished with value: 0.13559946865688954 and parameters: {'n_estimators': 73, 'max_depth': 23, 'min_samples_split': 8, 'min_samples_leaf': 5, 'max_features': 'log2'}. Best is trial 1 with value: 0.1289282389278893.\n",
      "[I 2025-07-26 15:05:32,448] Trial 10 finished with value: 0.14830011656426978 and parameters: {'n_estimators': 185, 'max_depth': 3, 'min_samples_split': 10, 'min_samples_leaf': 3, 'max_features': None}. Best is trial 1 with value: 0.1289282389278893.\n",
      "[I 2025-07-26 15:06:57,618] Trial 11 finished with value: 0.12851472929541552 and parameters: {'n_estimators': 197, 'max_depth': 14, 'min_samples_split': 10, 'min_samples_leaf': 2, 'max_features': None}. Best is trial 11 with value: 0.12851472929541552.\n",
      "[I 2025-07-26 15:08:17,123] Trial 12 finished with value: 0.12947866451503698 and parameters: {'n_estimators': 192, 'max_depth': 12, 'min_samples_split': 10, 'min_samples_leaf': 3, 'max_features': None}. Best is trial 11 with value: 0.12851472929541552.\n",
      "[I 2025-07-26 15:09:16,217] Trial 13 finished with value: 0.1286330745501566 and parameters: {'n_estimators': 136, 'max_depth': 13, 'min_samples_split': 9, 'min_samples_leaf': 2, 'max_features': None}. Best is trial 11 with value: 0.12851472929541552.\n",
      "[I 2025-07-26 15:10:12,036] Trial 14 finished with value: 0.12983951024779494 and parameters: {'n_estimators': 124, 'max_depth': 11, 'min_samples_split': 8, 'min_samples_leaf': 2, 'max_features': None}. Best is trial 11 with value: 0.12851472929541552.\n",
      "[I 2025-07-26 15:10:20,683] Trial 15 finished with value: 0.15810708067434232 and parameters: {'n_estimators': 143, 'max_depth': 6, 'min_samples_split': 9, 'min_samples_leaf': 2, 'max_features': 'sqrt'}. Best is trial 11 with value: 0.12851472929541552.\n",
      "[I 2025-07-26 15:10:59,256] Trial 16 finished with value: 0.12817689325378034 and parameters: {'n_estimators': 83, 'max_depth': 14, 'min_samples_split': 10, 'min_samples_leaf': 2, 'max_features': None}. Best is trial 16 with value: 0.12817689325378034.\n",
      "[I 2025-07-26 15:11:32,436] Trial 17 finished with value: 0.12828688488944984 and parameters: {'n_estimators': 71, 'max_depth': 15, 'min_samples_split': 10, 'min_samples_leaf': 3, 'max_features': None}. Best is trial 16 with value: 0.12817689325378034.\n",
      "[I 2025-07-26 15:11:37,442] Trial 18 finished with value: 0.15412028653701992 and parameters: {'n_estimators': 61, 'max_depth': 7, 'min_samples_split': 7, 'min_samples_leaf': 3, 'max_features': 'log2'}. Best is trial 16 with value: 0.12817689325378034.\n",
      "[I 2025-07-26 15:11:46,836] Trial 19 finished with value: 0.13718447166678616 and parameters: {'n_estimators': 92, 'max_depth': 15, 'min_samples_split': 8, 'min_samples_leaf': 3, 'max_features': 'sqrt'}. Best is trial 16 with value: 0.12817689325378034.\n",
      "[I 2025-07-26 15:12:25,011] Trial 20 finished with value: 0.13065141430360738 and parameters: {'n_estimators': 94, 'max_depth': 10, 'min_samples_split': 10, 'min_samples_leaf': 2, 'max_features': None}. Best is trial 16 with value: 0.12817689325378034.\n",
      "[I 2025-07-26 15:12:50,591] Trial 21 finished with value: 0.12846451588330499 and parameters: {'n_estimators': 52, 'max_depth': 14, 'min_samples_split': 10, 'min_samples_leaf': 2, 'max_features': None}. Best is trial 16 with value: 0.12817689325378034.\n",
      "[I 2025-07-26 15:13:18,639] Trial 22 finished with value: 0.1299371544458381 and parameters: {'n_estimators': 51, 'max_depth': 19, 'min_samples_split': 9, 'min_samples_leaf': 3, 'max_features': None}. Best is trial 16 with value: 0.12817689325378034.\n",
      "[I 2025-07-26 15:14:00,842] Trial 23 finished with value: 0.12841989973986334 and parameters: {'n_estimators': 93, 'max_depth': 14, 'min_samples_split': 10, 'min_samples_leaf': 1, 'max_features': None}. Best is trial 16 with value: 0.12817689325378034.\n",
      "[I 2025-07-26 15:14:39,123] Trial 24 finished with value: 0.13374177044274627 and parameters: {'n_estimators': 96, 'max_depth': 8, 'min_samples_split': 9, 'min_samples_leaf': 1, 'max_features': None}. Best is trial 16 with value: 0.12817689325378034.\n",
      "[I 2025-07-26 15:15:19,962] Trial 25 finished with value: 0.13073364136057042 and parameters: {'n_estimators': 82, 'max_depth': 20, 'min_samples_split': 7, 'min_samples_leaf': 1, 'max_features': None}. Best is trial 16 with value: 0.12817689325378034.\n",
      "[I 2025-07-26 15:16:12,097] Trial 26 finished with value: 0.1288124595023491 and parameters: {'n_estimators': 110, 'max_depth': 16, 'min_samples_split': 8, 'min_samples_leaf': 1, 'max_features': None}. Best is trial 16 with value: 0.12817689325378034.\n",
      "[I 2025-07-26 15:16:45,359] Trial 27 finished with value: 0.12953361734279356 and parameters: {'n_estimators': 74, 'max_depth': 12, 'min_samples_split': 10, 'min_samples_leaf': 3, 'max_features': None}. Best is trial 16 with value: 0.12817689325378034.\n",
      "[I 2025-07-26 15:17:04,004] Trial 28 finished with value: 0.13301958337975928 and parameters: {'n_estimators': 162, 'max_depth': 26, 'min_samples_split': 9, 'min_samples_leaf': 2, 'max_features': 'log2'}. Best is trial 16 with value: 0.12817689325378034.\n",
      "[I 2025-07-26 15:17:12,456] Trial 29 finished with value: 0.1435987374387524 and parameters: {'n_estimators': 107, 'max_depth': 10, 'min_samples_split': 2, 'min_samples_leaf': 1, 'max_features': 'sqrt'}. Best is trial 16 with value: 0.12817689325378034.\n"
     ]
    },
    {
     "name": "stdout",
     "output_type": "stream",
     "text": [
      "Best hyperparameters: {'n_estimators': 83, 'max_depth': 14, 'min_samples_split': 10, 'min_samples_leaf': 2, 'max_features': None}\n"
     ]
    }
   ],
   "source": [
    "# === Step 3: Optuna Hyperparameter Tuning for rf Classification ===\n",
    "def objective_rf_cls(trial):\n",
    "    # Define hyperparameter search space\n",
    "    n_estimators = trial.suggest_int(\"n_estimators\", 50, 300)\n",
    "    max_depth = trial.suggest_int(\"max_depth\", 3, 30)\n",
    "    min_samples_split = trial.suggest_int(\"min_samples_split\", 2, 10)\n",
    "    min_samples_leaf = trial.suggest_int(\"min_samples_leaf\", 1, 5)\n",
    "    max_features = trial.suggest_categorical(\"max_features\", [\"sqrt\", \"log2\", None])\n",
    "\n",
    "    # Define and train the model\n",
    "    model = RandomForestClassifier(\n",
    "        n_estimators=n_estimators,\n",
    "        max_depth=max_depth,\n",
    "        min_samples_split=min_samples_split,\n",
    "        min_samples_leaf=min_samples_leaf,\n",
    "        max_features=max_features,\n",
    "        random_state=42,\n",
    "        n_jobs=-1\n",
    "    )\n",
    "    model.fit(X_train_cls, y_train_cls)\n",
    "\n",
    "    # Predict on validation set\n",
    "    y_pred = model.predict(X_val_cls)\n",
    "\n",
    "    # Evaluate using weighted F1 score (maximize -> minimize 1 - score)\n",
    "    return 1 - f1_score(y_val_cls, y_pred, average=\"weighted\")\n",
    "\n",
    "# Run the Optuna study\n",
    "study = optuna.create_study(direction=\"minimize\")\n",
    "study.optimize(objective_rf_cls, n_trials=30)\n",
    "\n",
    "# Output best hyperparameters\n",
    "best_params_cls = study.best_trial.params\n",
    "print(\"Best hyperparameters:\", best_params_cls)"
   ]
  },
  {
   "cell_type": "markdown",
   "id": "b78cf1aa-b445-46eb-9231-6a47e3a865fc",
   "metadata": {
    "id": "b78cf1aa-b445-46eb-9231-6a47e3a865fc"
   },
   "source": [
    "## 4. Re-learn with the optimized parameters"
   ]
  },
  {
   "cell_type": "code",
   "execution_count": 11,
   "id": "f8d672d6-20e7-4921-aa8e-3efff07ae642",
   "metadata": {
    "executionInfo": {
     "elapsed": 37354,
     "status": "ok",
     "timestamp": 1753543070224,
     "user": {
      "displayName": "Koichiro Hara",
      "userId": "05377671056058078801"
     },
     "user_tz": -60
    },
    "id": "f8d672d6-20e7-4921-aa8e-3efff07ae642"
   },
   "outputs": [],
   "source": [
    "# === Step 4: Train Final Model with Best Params (Classification) ===\n",
    "rf_model_cls = RandomForestClassifier(\n",
    "    n_estimators=best_params_cls['n_estimators'],\n",
    "    max_depth=best_params_cls['max_depth'],\n",
    "    min_samples_split=best_params_cls['min_samples_split'],\n",
    "    min_samples_leaf=best_params_cls['min_samples_leaf'],\n",
    "    max_features=best_params_cls['max_features'],\n",
    "    random_state=42,\n",
    "    n_jobs=-1\n",
    ")\n",
    "\n",
    "# Train the model on the training set\n",
    "rf_model_cls.fit(X_train_cls, y_train_cls)\n",
    "\n",
    "# Predict class probabilities\n",
    "y_proba_val = rf_model_cls.predict_proba(X_val_cls)\n",
    "\n",
    "# Extract probabilities for each class\n",
    "prob_0 = y_proba_val[:, 0]  # Probability that class = 0\n",
    "prob_1 = y_proba_val[:, 1]  # Probability that class = 1"
   ]
  },
  {
   "cell_type": "code",
   "execution_count": 12,
   "id": "92cd1dad-c2ac-4929-a071-0b0cbd4044d0",
   "metadata": {
    "colab": {
     "base_uri": "https://localhost:8080/",
     "height": 989,
     "referenced_widgets": [
      "388f96e077db487cb4bddbea76494da9",
      "6389c28538984dbebf0726aabfe6b5f4",
      "c2788f07475a443b90447cd3036f42fc",
      "6246723dca794c17aa3c891540743362",
      "8b400b7a432845dfb41c2c88f3c9cb85",
      "5d773f0baddc403bbe3a88b34099a7d8",
      "5bb2ebe5d7214dc181cf65ab671f2533",
      "8bab14ed1c3146b59c5c9004d1c25559",
      "ee3ca7c446fb4aa7b75eb61fd7194c96",
      "4d6060b4c2dc49fdb382daac17dae789",
      "a4a91cd81b5c419ca556269a0eba02d5"
     ]
    },
    "executionInfo": {
     "elapsed": 17964,
     "status": "ok",
     "timestamp": 1753543088186,
     "user": {
      "displayName": "Koichiro Hara",
      "userId": "05377671056058078801"
     },
     "user_tz": -60
    },
    "id": "92cd1dad-c2ac-4929-a071-0b0cbd4044d0",
    "outputId": "95579e57-17f6-4098-cedf-2280b2355f36"
   },
   "outputs": [
    {
     "data": {
      "application/vnd.jupyter.widget-view+json": {
       "model_id": "388f96e077db487cb4bddbea76494da9",
       "version_major": 2,
       "version_minor": 0
      },
      "text/plain": [
       "  0%|          | 0/50 [00:00<?, ?it/s]"
      ]
     },
     "metadata": {},
     "output_type": "display_data"
    },
    {
     "data": {
      "image/png": "[encoded data removed]",
      "text/plain": [
       "<Figure size 800x950 with 2 Axes>"
      ]
     },
     "metadata": {},
     "output_type": "display_data"
    }
   ],
   "source": [
    "import shap\n",
    "\n",
    "# === Flatten input data if needed ===\n",
    "X_train_flat = X_train_cls.reshape(X_train_cls.shape[0], -1)  # Shape: (samples, features)\n",
    "X_val_flat = X_val_cls.reshape(X_val_cls.shape[0], -1)\n",
    "\n",
    "# === Define prediction function for rf classifier ===\n",
    "def model_predict_rf_classifier(X_numpy):\n",
    "    # Return predicted probabilities for class 1\n",
    "    return rf_model_cls.predict_proba(X_numpy)[:, 1]  # Shape: (N,)\n",
    "\n",
    "# === Select background and explanation data ===\n",
    "background_data = X_train_flat[:100]       # Use a small representative sample\n",
    "explanation_data = X_val_flat[:50]         # Data to explain\n",
    "\n",
    "# === Initialize SHAP KernelExplainer ===\n",
    "explainer = shap.KernelExplainer(model_predict_rf_classifier, background_data)\n",
    "\n",
    "# === Compute SHAP values (for classification, returns list per class) ===\n",
    "shap_values = explainer.shap_values(explanation_data)  # shap_values[1] = class 1 (positive class)\n",
    "\n",
    "# === Convert SHAP values for class 1 to DataFrame and save ===\n",
    "feature_names = feature_cols_cls if 'feature_cols_cls' in locals() else [f\"f{i}\" for i in range(X_train_flat.shape[1])]\n",
    "shap_df = pd.DataFrame(shap_values, columns=feature_cols_cls)\n",
    "shap_df.to_csv(\"shap_values_rf_cls.csv\", index=False)\n",
    "\n",
    "# === Generate SHAP summary plot for class 1 ===\n",
    "shap.summary_plot(shap_values, explanation_data, feature_names=feature_names)"
   ]
  },
  {
   "cell_type": "code",
   "execution_count": 13,
   "id": "a47c62d0-9a80-4d5e-b0d7-193d98f85d01",
   "metadata": {
    "colab": {
     "base_uri": "https://localhost:8080/",
     "height": 407
    },
    "executionInfo": {
     "elapsed": 546,
     "status": "ok",
     "timestamp": 1753543088738,
     "user": {
      "displayName": "Koichiro Hara",
      "userId": "05377671056058078801"
     },
     "user_tz": -60
    },
    "id": "a47c62d0-9a80-4d5e-b0d7-193d98f85d01",
    "outputId": "abc12ff2-089b-440f-f714-321ef39190f5"
   },
   "outputs": [
    {
     "data": {
      "image/png": "[encoded data removed]",
      "text/plain": [
       "<Figure size 600x400 with 1 Axes>"
      ]
     },
     "metadata": {},
     "output_type": "display_data"
    }
   ],
   "source": [
    "y_pred_train = rf_model_cls.predict(X_train_cls)\n",
    "y_pred_val = rf_model_cls.predict(X_val_cls)\n",
    "\n",
    "train_f1 = f1_score(y_train_cls, y_pred_train)\n",
    "val_f1 = f1_score(y_val_cls, y_pred_val)\n",
    "\n",
    "plt.figure(figsize=(6,4))\n",
    "plt.bar([\"Train F1\", \"Validation F1\"], [train_f1, val_f1], color=[\"skyblue\", \"salmon\"])\n",
    "plt.title(\"F1 Score Comparison\")\n",
    "plt.ylim(0, 1)\n",
    "plt.grid(True, axis='y')\n",
    "plt.tight_layout()\n",
    "plt.show()"
   ]
  },
  {
   "cell_type": "code",
   "execution_count": 14,
   "id": "883b1780-3d1a-42e8-bdb0-7e16178a956d",
   "metadata": {
    "colab": {
     "base_uri": "https://localhost:8080/",
     "height": 487
    },
    "executionInfo": {
     "elapsed": 113,
     "status": "ok",
     "timestamp": 1753543088855,
     "user": {
      "displayName": "Koichiro Hara",
      "userId": "05377671056058078801"
     },
     "user_tz": -60
    },
    "id": "883b1780-3d1a-42e8-bdb0-7e16178a956d",
    "outputId": "02c8b4d5-7177-42ec-d2a5-00d0d466eb7a"
   },
   "outputs": [
    {
     "data": {
      "image/png": "[encoded data removed]",
      "text/plain": [
       "<Figure size 640x480 with 2 Axes>"
      ]
     },
     "metadata": {},
     "output_type": "display_data"
    }
   ],
   "source": [
    "from sklearn.metrics import ConfusionMatrixDisplay, confusion_matrix\n",
    "\n",
    "cm = confusion_matrix(y_val_cls, y_pred_val)\n",
    "ConfusionMatrixDisplay(confusion_matrix=cm).plot()\n",
    "plt.title(\"Confusion Matrix - Validation Set\")\n",
    "plt.tight_layout()\n",
    "plt.show()"
   ]
  },
  {
   "cell_type": "code",
   "execution_count": 15,
   "id": "f5d18371-32bb-436d-8b9e-36c01f1b39f7",
   "metadata": {
    "colab": {
     "base_uri": "https://localhost:8080/",
     "height": 206
    },
    "executionInfo": {
     "elapsed": 155,
     "status": "ok",
     "timestamp": 1753543089016,
     "user": {
      "displayName": "Koichiro Hara",
      "userId": "05377671056058078801"
     },
     "user_tz": -60
    },
    "id": "f5d18371-32bb-436d-8b9e-36c01f1b39f7",
    "outputId": "35d3d7b9-ddff-45ef-ca6b-77ab162cfab9"
   },
   "outputs": [
    {
     "data": {
      "application/vnd.google.colaboratory.intrinsic+json": {
       "summary": "{\n  \"name\": \"results_cls_df\",\n  \"rows\": 71562,\n  \"fields\": [\n    {\n      \"column\": \"true_label\",\n      \"properties\": {\n        \"dtype\": \"number\",\n        \"std\": 0,\n        \"min\": 0,\n        \"max\": 1,\n        \"num_unique_values\": 2,\n        \"samples\": [\n          1,\n          0\n        ],\n        \"semantic_type\": \"\",\n        \"description\": \"\"\n      }\n    },\n    {\n      \"column\": \"predicted_label\",\n      \"properties\": {\n        \"dtype\": \"number\",\n        \"std\": 0,\n        \"min\": 0,\n        \"max\": 1,\n        \"num_unique_values\": 2,\n        \"samples\": [\n          1,\n          0\n        ],\n        \"semantic_type\": \"\",\n        \"description\": \"\"\n      }\n    },\n    {\n      \"column\": \"probability_0\",\n      \"properties\": {\n        \"dtype\": \"number\",\n        \"std\": 0.2527989856110237,\n        \"min\": 0.012137029913291835,\n        \"max\": 1.0,\n        \"num_unique_values\": 45270,\n        \"samples\": [\n          0.9653874934026851,\n          0.6827049722706718\n        ],\n        \"semantic_type\": \"\",\n        \"description\": \"\"\n      }\n    },\n    {\n      \"column\": \"probability_1\",\n      \"properties\": {\n        \"dtype\": \"number\",\n        \"std\": 0.252798985611021,\n        \"min\": 0.0,\n        \"max\": 0.9878629700867079,\n        \"num_unique_values\": 45270,\n        \"samples\": [\n          0.034612506597314796,\n          0.3172950277293286\n        ],\n        \"semantic_type\": \"\",\n        \"description\": \"\"\n      }\n    }\n  ]\n}",
       "type": "dataframe",
       "variable_name": "results_cls_df"
      },
      "text/html": [
       "\n",
       "  <div id=\"df-77f54df3-63e3-47f4-858b-74bfc1392319\" class=\"colab-df-container\">\n",
       "    <div>\n",
       "<style scoped>\n",
       "    .dataframe tbody tr th:only-of-type {\n",
       "        vertical-align: middle;\n",
       "    }\n",
       "\n",
       "    .dataframe tbody tr th {\n",
       "        vertical-align: top;\n",
       "    }\n",
       "\n",
       "    .dataframe thead th {\n",
       "        text-align: right;\n",
       "    }\n",
       "</style>\n",
       "<table border=\"1\" class=\"dataframe\">\n",
       "  <thead>\n",
       "    <tr style=\"text-align: right;\">\n",
       "      <th></th>\n",
       "      <th>true_label</th>\n",
       "      <th>predicted_label</th>\n",
       "      <th>probability_0</th>\n",
       "      <th>probability_1</th>\n",
       "    </tr>\n",
       "  </thead>\n",
       "  <tbody>\n",
       "    <tr>\n",
       "      <th>0</th>\n",
       "      <td>0</td>\n",
       "      <td>0</td>\n",
       "      <td>1.000000</td>\n",
       "      <td>0.000000</td>\n",
       "    </tr>\n",
       "    <tr>\n",
       "      <th>1</th>\n",
       "      <td>0</td>\n",
       "      <td>0</td>\n",
       "      <td>1.000000</td>\n",
       "      <td>0.000000</td>\n",
       "    </tr>\n",
       "    <tr>\n",
       "      <th>2</th>\n",
       "      <td>1</td>\n",
       "      <td>0</td>\n",
       "      <td>0.854307</td>\n",
       "      <td>0.145693</td>\n",
       "    </tr>\n",
       "    <tr>\n",
       "      <th>3</th>\n",
       "      <td>0</td>\n",
       "      <td>0</td>\n",
       "      <td>0.900491</td>\n",
       "      <td>0.099509</td>\n",
       "    </tr>\n",
       "    <tr>\n",
       "      <th>4</th>\n",
       "      <td>0</td>\n",
       "      <td>0</td>\n",
       "      <td>0.994514</td>\n",
       "      <td>0.005486</td>\n",
       "    </tr>\n",
       "  </tbody>\n",
       "</table>\n",
       "</div>\n",
       "    <div class=\"colab-df-buttons\">\n",
       "\n",
       "  <div class=\"colab-df-container\">\n",
       "    <button class=\"colab-df-convert\" onclick=\"convertToInteractive('df-77f54df3-63e3-47f4-858b-74bfc1392319')\"\n",
       "            title=\"Convert this dataframe to an interactive table.\"\n",
       "            style=\"display:none;\">\n",
       "\n",
       "  <svg xmlns=\"http://www.w3.org/2000/svg\" height=\"24px\" viewBox=\"0 -960 960 960\">\n",
       "    <path d=\"M120-120v-720h720v720H120Zm60-500h600v-160H180v160Zm220 220h160v-160H400v160Zm0 220h160v-160H400v160ZM180-400h160v-160H180v160Zm440 0h160v-160H620v160ZM180-180h160v-160H180v160Zm440 0h160v-160H620v160Z\"/>\n",
       "  </svg>\n",
       "    </button>\n",
       "\n",
       "  <style>\n",
       "    .colab-df-container {\n",
       "      display:flex;\n",
       "      gap: 12px;\n",
       "    }\n",
       "\n",
       "    .colab-df-convert {\n",
       "      background-color: #E8F0FE;\n",
       "      border: none;\n",
       "      border-radius: 50%;\n",
       "      cursor: pointer;\n",
       "      display: none;\n",
       "      fill: #1967D2;\n",
       "      height: 32px;\n",
       "      padding: 0 0 0 0;\n",
       "      width: 32px;\n",
       "    }\n",
       "\n",
       "    .colab-df-convert:hover {\n",
       "      background-color: #E2EBFA;\n",
       "      box-shadow: 0px 1px 2px rgba(60, 64, 67, 0.3), 0px 1px 3px 1px rgba(60, 64, 67, 0.15);\n",
       "      fill: #174EA6;\n",
       "    }\n",
       "\n",
       "    .colab-df-buttons div {\n",
       "      margin-bottom: 4px;\n",
       "    }\n",
       "\n",
       "    [theme=dark] .colab-df-convert {\n",
       "      background-color: #3B4455;\n",
       "      fill: #D2E3FC;\n",
       "    }\n",
       "\n",
       "    [theme=dark] .colab-df-convert:hover {\n",
       "      background-color: #434B5C;\n",
       "      box-shadow: 0px 1px 3px 1px rgba(0, 0, 0, 0.15);\n",
       "      filter: drop-shadow(0px 1px 2px rgba(0, 0, 0, 0.3));\n",
       "      fill: #FFFFFF;\n",
       "    }\n",
       "  </style>\n",
       "\n",
       "    <script>\n",
       "      const buttonEl =\n",
       "        document.querySelector('#df-77f54df3-63e3-47f4-858b-74bfc1392319 button.colab-df-convert');\n",
       "      buttonEl.style.display =\n",
       "        google.colab.kernel.accessAllowed ? 'block' : 'none';\n",
       "\n",
       "      async function convertToInteractive(key) {\n",
       "        const element = document.querySelector('#df-77f54df3-63e3-47f4-858b-74bfc1392319');\n",
       "        const dataTable =\n",
       "          await google.colab.kernel.invokeFunction('convertToInteractive',\n",
       "                                                    [key], {});\n",
       "        if (!dataTable) return;\n",
       "\n",
       "        const docLinkHtml = 'Like what you see? Visit the ' +\n",
       "          '<a target=\"_blank\" href=https://colab.research.google.com/notebooks/data_table.ipynb>data table notebook</a>'\n",
       "          + ' to learn more about interactive tables.';\n",
       "        element.innerHTML = '';\n",
       "        dataTable['output_type'] = 'display_data';\n",
       "        await google.colab.output.renderOutput(dataTable, element);\n",
       "        const docLink = document.createElement('div');\n",
       "        docLink.innerHTML = docLinkHtml;\n",
       "        element.appendChild(docLink);\n",
       "      }\n",
       "    </script>\n",
       "  </div>\n",
       "\n",
       "\n",
       "    <div id=\"df-a68adfdd-ea73-4ced-ae80-c6238d27e68a\">\n",
       "      <button class=\"colab-df-quickchart\" onclick=\"quickchart('df-a68adfdd-ea73-4ced-ae80-c6238d27e68a')\"\n",
       "                title=\"Suggest charts\"\n",
       "                style=\"display:none;\">\n",
       "\n",
       "<svg xmlns=\"http://www.w3.org/2000/svg\" height=\"24px\"viewBox=\"0 0 24 24\"\n",
       "     width=\"24px\">\n",
       "    <g>\n",
       "        <path d=\"M19 3H5c-1.1 0-2 .9-2 2v14c0 1.1.9 2 2 2h14c1.1 0 2-.9 2-2V5c0-1.1-.9-2-2-2zM9 17H7v-7h2v7zm4 0h-2V7h2v10zm4 0h-2v-4h2v4z\"/>\n",
       "    </g>\n",
       "</svg>\n",
       "      </button>\n",
       "\n",
       "<style>\n",
       "  .colab-df-quickchart {\n",
       "      --bg-color: #E8F0FE;\n",
       "      --fill-color: #1967D2;\n",
       "      --hover-bg-color: #E2EBFA;\n",
       "      --hover-fill-color: #174EA6;\n",
       "      --disabled-fill-color: #AAA;\n",
       "      --disabled-bg-color: #DDD;\n",
       "  }\n",
       "\n",
       "  [theme=dark] .colab-df-quickchart {\n",
       "      --bg-color: #3B4455;\n",
       "      --fill-color: #D2E3FC;\n",
       "      --hover-bg-color: #434B5C;\n",
       "      --hover-fill-color: #FFFFFF;\n",
       "      --disabled-bg-color: #3B4455;\n",
       "      --disabled-fill-color: #666;\n",
       "  }\n",
       "\n",
       "  .colab-df-quickchart {\n",
       "    background-color: var(--bg-color);\n",
       "    border: none;\n",
       "    border-radius: 50%;\n",
       "    cursor: pointer;\n",
       "    display: none;\n",
       "    fill: var(--fill-color);\n",
       "    height: 32px;\n",
       "    padding: 0;\n",
       "    width: 32px;\n",
       "  }\n",
       "\n",
       "  .colab-df-quickchart:hover {\n",
       "    background-color: var(--hover-bg-color);\n",
       "    box-shadow: 0 1px 2px rgba(60, 64, 67, 0.3), 0 1px 3px 1px rgba(60, 64, 67, 0.15);\n",
       "    fill: var(--button-hover-fill-color);\n",
       "  }\n",
       "\n",
       "  .colab-df-quickchart-complete:disabled,\n",
       "  .colab-df-quickchart-complete:disabled:hover {\n",
       "    background-color: var(--disabled-bg-color);\n",
       "    fill: var(--disabled-fill-color);\n",
       "    box-shadow: none;\n",
       "  }\n",
       "\n",
       "  .colab-df-spinner {\n",
       "    border: 2px solid var(--fill-color);\n",
       "    border-color: transparent;\n",
       "    border-bottom-color: var(--fill-color);\n",
       "    animation:\n",
       "      spin 1s steps(1) infinite;\n",
       "  }\n",
       "\n",
       "  @keyframes spin {\n",
       "    0% {\n",
       "      border-color: transparent;\n",
       "      border-bottom-color: var(--fill-color);\n",
       "      border-left-color: var(--fill-color);\n",
       "    }\n",
       "    20% {\n",
       "      border-color: transparent;\n",
       "      border-left-color: var(--fill-color);\n",
       "      border-top-color: var(--fill-color);\n",
       "    }\n",
       "    30% {\n",
       "      border-color: transparent;\n",
       "      border-left-color: var(--fill-color);\n",
       "      border-top-color: var(--fill-color);\n",
       "      border-right-color: var(--fill-color);\n",
       "    }\n",
       "    40% {\n",
       "      border-color: transparent;\n",
       "      border-right-color: var(--fill-color);\n",
       "      border-top-color: var(--fill-color);\n",
       "    }\n",
       "    60% {\n",
       "      border-color: transparent;\n",
       "      border-right-color: var(--fill-color);\n",
       "    }\n",
       "    80% {\n",
       "      border-color: transparent;\n",
       "      border-right-color: var(--fill-color);\n",
       "      border-bottom-color: var(--fill-color);\n",
       "    }\n",
       "    90% {\n",
       "      border-color: transparent;\n",
       "      border-bottom-color: var(--fill-color);\n",
       "    }\n",
       "  }\n",
       "</style>\n",
       "\n",
       "      <script>\n",
       "        async function quickchart(key) {\n",
       "          const quickchartButtonEl =\n",
       "            document.querySelector('#' + key + ' button');\n",
       "          quickchartButtonEl.disabled = true;  // To prevent multiple clicks.\n",
       "          quickchartButtonEl.classList.add('colab-df-spinner');\n",
       "          try {\n",
       "            const charts = await google.colab.kernel.invokeFunction(\n",
       "                'suggestCharts', [key], {});\n",
       "          } catch (error) {\n",
       "            console.error('Error during call to suggestCharts:', error);\n",
       "          }\n",
       "          quickchartButtonEl.classList.remove('colab-df-spinner');\n",
       "          quickchartButtonEl.classList.add('colab-df-quickchart-complete');\n",
       "        }\n",
       "        (() => {\n",
       "          let quickchartButtonEl =\n",
       "            document.querySelector('#df-a68adfdd-ea73-4ced-ae80-c6238d27e68a button');\n",
       "          quickchartButtonEl.style.display =\n",
       "            google.colab.kernel.accessAllowed ? 'block' : 'none';\n",
       "        })();\n",
       "      </script>\n",
       "    </div>\n",
       "\n",
       "    </div>\n",
       "  </div>\n"
      ],
      "text/plain": [
       "   true_label  predicted_label  probability_0  probability_1\n",
       "0           0                0       1.000000       0.000000\n",
       "1           0                0       1.000000       0.000000\n",
       "2           1                0       0.854307       0.145693\n",
       "3           0                0       0.900491       0.099509\n",
       "4           0                0       0.994514       0.005486"
      ]
     },
     "execution_count": 15,
     "metadata": {},
     "output_type": "execute_result"
    }
   ],
   "source": [
    "# Combine true and predicted labels with predicted probabilities\n",
    "results_cls_df = pd.DataFrame({\n",
    "    \"true_label\": y_val_cls,\n",
    "    \"predicted_label\": y_pred_val,\n",
    "    \"probability_0\": prob_0,   # Probability for class 0\n",
    "    \"probability_1\": prob_1    # Probability for class 1\n",
    "})\n",
    "\n",
    "# Save to CSV without index\n",
    "results_cls_df.to_csv(\"classification_results.csv\", index=False)\n",
    "\n",
    "# Preview\n",
    "results_cls_df.head()"
   ]
  },
  {
   "cell_type": "markdown",
   "id": "9bacaea4-c3e4-4144-b7f4-b8c41b70e144",
   "metadata": {
    "id": "9bacaea4-c3e4-4144-b7f4-b8c41b70e144"
   },
   "source": [
    "## 5. Evaluate the model"
   ]
  },
  {
   "cell_type": "code",
   "execution_count": 16,
   "id": "340642a6-757b-4e34-980d-2f85c84b302e",
   "metadata": {
    "colab": {
     "base_uri": "https://localhost:8080/",
     "height": 1000
    },
    "executionInfo": {
     "elapsed": 1457,
     "status": "ok",
     "timestamp": 1753543090477,
     "user": {
      "displayName": "Koichiro Hara",
      "userId": "05377671056058078801"
     },
     "user_tz": -60
    },
    "id": "340642a6-757b-4e34-980d-2f85c84b302e",
    "outputId": "6ee40dae-1bce-4068-e08a-2850e44f5510"
   },
   "outputs": [
    {
     "name": "stdout",
     "output_type": "stream",
     "text": [
      "\n",
      "--- Evaluation on Training Data ---\n",
      "AUC-ROC:     0.9414\n",
      "F1-Score:    0.7204\n",
      "Precision:   0.6306\n",
      "Recall:      0.8399\n",
      "Confusion Matrix:\n",
      "[[243445  29843]\n",
      " [  9713  50952]]\n",
      "Mean G-Mean: 0.8650\n"
     ]
    },
    {
     "data": {
      "image/png": "[encoded data removed]",
      "text/plain": [
       "<Figure size 600x400 with 2 Axes>"
      ]
     },
     "metadata": {},
     "output_type": "display_data"
    },
    {
     "name": "stdout",
     "output_type": "stream",
     "text": [
      "\n",
      "--- Evaluation on Validation Data ---\n",
      "AUC-ROC:     0.9139\n",
      "F1-Score:    0.6665\n",
      "Precision:   0.5820\n",
      "Recall:      0.7796\n",
      "Confusion Matrix:\n",
      "[[51011  7377]\n",
      " [ 2903 10271]]\n",
      "Mean G-Mean: 0.8253\n"
     ]
    },
    {
     "data": {
      "image/png": "[encoded data removed]",
      "text/plain": [
       "<Figure size 600x400 with 2 Axes>"
      ]
     },
     "metadata": {},
     "output_type": "display_data"
    },
    {
     "name": "stdout",
     "output_type": "stream",
     "text": [
      "\n",
      "--- Evaluation on Test Data ---\n",
      "AUC-ROC:     0.9156\n",
      "F1-Score:    0.6633\n",
      "Precision:   0.5775\n",
      "Recall:      0.7790\n",
      "Confusion Matrix:\n",
      "[[51284  7362]\n",
      " [ 2854 10062]]\n",
      "Mean G-Mean: 0.8254\n"
     ]
    },
    {
     "data": {
      "image/png": "[encoded data removed]",
      "text/plain": [
       "<Figure size 600x400 with 2 Axes>"
      ]
     },
     "metadata": {},
     "output_type": "display_data"
    }
   ],
   "source": [
    "from sklearn.metrics import (\n",
    "    roc_auc_score, f1_score, precision_score,\n",
    "    recall_score, confusion_matrix\n",
    ")\n",
    "import seaborn as sns\n",
    "import matplotlib.pyplot as plt\n",
    "import numpy as np\n",
    "\n",
    "def evaluate_rf_classifier(model, X, y, dataset_name=\"\", threshold=0.3):\n",
    "    \"\"\"\n",
    "    Evaluate a trained rf classifier on given dataset.\n",
    "    \"\"\"\n",
    "    # Predict probabilities and class labels\n",
    "    prob = model.predict_proba(X)[:, 1]  # Probability of class 1\n",
    "    preds = (prob > threshold).astype(int)     # Apply threshold\n",
    "\n",
    "    # Metrics\n",
    "    auc = roc_auc_score(y, prob)\n",
    "    f1 = f1_score(y, preds)\n",
    "    precision = precision_score(y, preds)\n",
    "    recall = recall_score(y, preds)\n",
    "    conf_matrix = confusion_matrix(y, preds)\n",
    "\n",
    "    # G-Mean\n",
    "    tn, fp, fn, tp = conf_matrix.ravel()\n",
    "    tpr = tp / (tp + fn + 1e-6)\n",
    "    tnr = tn / (tn + fp + 1e-6)\n",
    "    gmean = np.sqrt(tpr * tnr)\n",
    "\n",
    "    # Print results\n",
    "    print(f\"\\n--- Evaluation on {dataset_name} ---\")\n",
    "    print(f\"AUC-ROC:     {auc:.4f}\")\n",
    "    print(f\"F1-Score:    {f1:.4f}\")\n",
    "    print(f\"Precision:   {precision:.4f}\")\n",
    "    print(f\"Recall:      {recall:.4f}\")\n",
    "    print(\"Confusion Matrix:\")\n",
    "    print(conf_matrix)\n",
    "    print(f\"Mean G-Mean: {gmean:.4f}\")\n",
    "\n",
    "    # Confusion matrix plot\n",
    "    plt.figure(figsize=(6, 4))\n",
    "    sns.heatmap(conf_matrix, annot=True, fmt=\"d\", cmap=\"Blues\")\n",
    "    plt.title(f\"Confusion Matrix - {dataset_name}\")\n",
    "    plt.xlabel(\"Predicted\")\n",
    "    plt.ylabel(\"Actual\")\n",
    "    plt.tight_layout()\n",
    "    plt.show()\n",
    "\n",
    "evaluate_rf_classifier(rf_model_cls, X_train_cls, y_train_cls, \"Training Data\")\n",
    "evaluate_rf_classifier(rf_model_cls, X_val_cls, y_val_cls, \"Validation Data\")\n",
    "evaluate_rf_classifier(rf_model_cls, X_test_cls, y_test_cls, \"Test Data\")"
   ]
  },
  {
   "cell_type": "code",
   "execution_count": 17,
   "id": "9031c680-c2b3-4800-9c78-7733b567063d",
   "metadata": {
    "colab": {
     "base_uri": "https://localhost:8080/",
     "height": 1000
    },
    "executionInfo": {
     "elapsed": 871,
     "status": "ok",
     "timestamp": 1753543091351,
     "user": {
      "displayName": "Koichiro Hara",
      "userId": "05377671056058078801"
     },
     "user_tz": -60
    },
    "id": "9031c680-c2b3-4800-9c78-7733b567063d",
    "outputId": "c5288446-4094-4dd8-e61d-c2771eb9c44a"
   },
   "outputs": [
    {
     "name": "stdout",
     "output_type": "stream",
     "text": [
      "\n",
      "--- Evaluation on Test Data @ 0.3 ---\n",
      "AUC-ROC:     0.9156\n",
      "F1-Score:    0.6633\n",
      "Precision:   0.5775\n",
      "Recall:      0.7790\n",
      "Confusion Matrix:\n",
      "[[51284  7362]\n",
      " [ 2854 10062]]\n",
      "Mean G-Mean: 0.8254\n"
     ]
    },
    {
     "data": {
      "image/png": "[encoded data removed]",
      "text/plain": [
       "<Figure size 600x400 with 2 Axes>"
      ]
     },
     "metadata": {},
     "output_type": "display_data"
    },
    {
     "name": "stdout",
     "output_type": "stream",
     "text": [
      "\n",
      "--- Evaluation on Test Data @ 0.1 ---\n",
      "AUC-ROC:     0.9156\n",
      "F1-Score:    0.6408\n",
      "Precision:   0.6779\n",
      "Recall:      0.6076\n",
      "Confusion Matrix:\n",
      "[[54917  3729]\n",
      " [ 5068  7848]]\n",
      "Mean G-Mean: 0.7543\n"
     ]
    },
    {
     "data": {
      "image/png": "[encoded data removed]",
      "text/plain": [
       "<Figure size 600x400 with 2 Axes>"
      ]
     },
     "metadata": {},
     "output_type": "display_data"
    },
    {
     "name": "stdout",
     "output_type": "stream",
     "text": [
      "\n",
      "--- Evaluation on Test Data @ 0.5 ---\n",
      "AUC-ROC:     0.9156\n",
      "F1-Score:    0.5813\n",
      "Precision:   0.4225\n",
      "Recall:      0.9312\n",
      "Confusion Matrix:\n",
      "[[42208 16438]\n",
      " [  889 12027]]\n",
      "Mean G-Mean: 0.8186\n"
     ]
    },
    {
     "data": {
      "image/png": "[encoded data removed]",
      "text/plain": [
       "<Figure size 600x400 with 2 Axes>"
      ]
     },
     "metadata": {},
     "output_type": "display_data"
    }
   ],
   "source": [
    "evaluate_rf_classifier(rf_model_cls, X_test_cls, y_test_cls, \"Test Data @ 0.3\", threshold=0.3)\n",
    "evaluate_rf_classifier(rf_model_cls, X_test_cls, y_test_cls, \"Test Data @ 0.1\", threshold=0.5)\n",
    "evaluate_rf_classifier(rf_model_cls, X_test_cls, y_test_cls, \"Test Data @ 0.5\", threshold=0.1)"
   ]
  },
  {
   "cell_type": "markdown",
   "id": "828d46a8-c78e-4d2e-b8f8-7d2c9bdc74a0",
   "metadata": {
    "id": "828d46a8-c78e-4d2e-b8f8-7d2c9bdc74a0"
   },
   "source": [
    "## 6. Save the model"
   ]
  },
  {
   "cell_type": "code",
   "execution_count": 18,
   "id": "c4418a1d-1cf7-436b-850d-5e4e37dfeee1",
   "metadata": {
    "executionInfo": {
     "elapsed": 28,
     "status": "ok",
     "timestamp": 1753543091382,
     "user": {
      "displayName": "Koichiro Hara",
      "userId": "05377671056058078801"
     },
     "user_tz": -60
    },
    "id": "c4418a1d-1cf7-436b-850d-5e4e37dfeee1"
   },
   "outputs": [],
   "source": [
    "import joblib\n",
    "import pandas as pd\n",
    "\n",
    "# Save trained rf model\n",
    "joblib.dump(rf_model_cls, \"rf_cls_model.pkl\")\n",
    "\n",
    "# Save best hyperparameters as CSV\n",
    "params_df = pd.DataFrame([best_params_cls])\n",
    "params_df.to_csv(\"best_params_cls.csv\", index=False)\n",
    "\n",
    "# Save StandardScaler\n",
    "#joblib.dump(scaler, \"scaler.pkl\")"
   ]
  },
  {
   "cell_type": "markdown",
   "id": "ed2c8b44-cdf0-403b-81e2-51081ca866e9",
   "metadata": {
    "id": "ed2c8b44-cdf0-403b-81e2-51081ca866e9"
   },
   "source": [
    "## Optional: load the model"
   ]
  },
  {
   "cell_type": "code",
   "execution_count": 19,
   "id": "97c6080b-2ec4-4169-b1fc-5becf4064983",
   "metadata": {
    "colab": {
     "base_uri": "https://localhost:8080/"
    },
    "executionInfo": {
     "elapsed": 4965,
     "status": "ok",
     "timestamp": 1753543096351,
     "user": {
      "displayName": "Koichiro Hara",
      "userId": "05377671056058078801"
     },
     "user_tz": -60
    },
    "id": "97c6080b-2ec4-4169-b1fc-5becf4064983",
    "outputId": "f664b0e3-0515-470c-926d-930913c590f6"
   },
   "outputs": [
    {
     "name": "stderr",
     "output_type": "stream",
     "text": [
      "/usr/local/lib/python3.11/dist-packages/sklearn/base.py:380: InconsistentVersionWarning: Trying to unpickle estimator DecisionTreeClassifier from version 1.3.2 when using version 1.6.1. This might lead to breaking code or invalid results. Use at your own risk. For more info please refer to:\n",
      "https://scikit-learn.org/stable/model_persistence.html#security-maintainability-limitations\n",
      "  warnings.warn(\n",
      "/usr/local/lib/python3.11/dist-packages/sklearn/base.py:380: InconsistentVersionWarning: Trying to unpickle estimator RandomForestClassifier from version 1.3.2 when using version 1.6.1. This might lead to breaking code or invalid results. Use at your own risk. For more info please refer to:\n",
      "https://scikit-learn.org/stable/model_persistence.html#security-maintainability-limitations\n",
      "  warnings.warn(\n"
     ]
    }
   ],
   "source": [
    "'''\n",
    "import joblib\n",
    "\n",
    "# Load best hyperparameters from CSV\n",
    "loaded_params_df = pd.read_csv(\"best_params_cls.csv\")\n",
    "best_params_cls = loaded_params_df.iloc[0].to_dict()\n",
    "\n",
    "# Convert integer-like float values to int\n",
    "best_params_cls['n_neighbors'] = int(best_params_cls['n_neighbors'])\n",
    "best_params_cls['p'] = int(best_params_cls['p'])\n",
    "'''\n",
    "\n",
    "# Load trained rf model\n",
    "rf_model_cls = joblib.load(\"/content/drive/MyDrive/ERP/Random Forest/rf_cls_model.pkl\")\n",
    "\n",
    "# Load scaler\n",
    "#scaler = joblib.load(\"scaler.pkl\")"
   ]
  },
  {
   "cell_type": "code",
   "execution_count": 19,
   "id": "ZnkeNbAXW7xM",
   "metadata": {
    "executionInfo": {
     "elapsed": 4,
     "status": "ok",
     "timestamp": 1753543096361,
     "user": {
      "displayName": "Koichiro Hara",
      "userId": "05377671056058078801"
     },
     "user_tz": -60
    },
    "id": "ZnkeNbAXW7xM"
   },
   "outputs": [],
   "source": []
  }
 ],
 "metadata": {
  "colab": {
   "machine_shape": "hm",
   "provenance": []
  },
  "kernelspec": {
   "display_name": "Python 3",
   "name": "python3"
  },
  "language_info": {
   "codemirror_mode": {
    "name": "ipython",
    "version": 3
   },
   "file_extension": ".py",
   "mimetype": "text/x-python",
   "name": "python",
   "nbconvert_exporter": "python",
   "pygments_lexer": "ipython3",
   "version": "3.10.18"
  }
 },
 "nbformat": 4,
 "nbformat_minor": 5
}
